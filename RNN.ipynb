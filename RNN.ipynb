{
 "cells": [
  {
   "cell_type": "code",
   "execution_count": 1,
   "metadata": {},
   "outputs": [],
   "source": [
    "# To support both python 2 and python 3\n",
    "from __future__ import division, print_function, unicode_literals\n",
    "\n",
    "# Common imports\n",
    "import numpy as np\n",
    "import os\n",
    "\n",
    "# to make this notebook's output stable across runs\n",
    "def reset_graph(seed=42):\n",
    "    tf.reset_default_graph()\n",
    "    tf.set_random_seed(seed)\n",
    "    np.random.seed(seed)\n",
    "\n",
    "# To plot pretty figures\n",
    "%matplotlib inline\n",
    "import matplotlib\n",
    "import matplotlib.pyplot as plt\n",
    "plt.rcParams['axes.labelsize'] = 14\n",
    "plt.rcParams['xtick.labelsize'] = 12\n",
    "plt.rcParams['ytick.labelsize'] = 12\n",
    "\n",
    "# Where to save the figures\n",
    "PROJECT_ROOT_DIR = \".\"\n",
    "CHAPTER_ID = \"rnn\"\n",
    "\n",
    "def save_fig(fig_id, tight_layout=True):\n",
    "    path = os.path.join(PROJECT_ROOT_DIR, \"images\", CHAPTER_ID, fig_id + \".png\")\n",
    "    print(\"Saving figure\", fig_id)\n",
    "    if tight_layout:\n",
    "        plt.tight_layout()\n",
    "    plt.savefig(path, format='png', dpi=300)"
   ]
  },
  {
   "cell_type": "code",
   "execution_count": 2,
   "metadata": {},
   "outputs": [],
   "source": [
    "import tensorflow as tf"
   ]
  },
  {
   "cell_type": "code",
   "execution_count": 4,
   "metadata": {},
   "outputs": [],
   "source": [
    "reset_graph()\n",
    "\n",
    "n_inputs = 3\n",
    "n_neurons = 5\n",
    "\n",
    "X0 = tf.placeholder(tf.float32, [None, n_inputs])\n",
    "X1 = tf.placeholder(tf.float32, [None, n_inputs])\n",
    "\n",
    "Wx = tf.Variable(tf.random_normal(shape = [n_inputs, n_neurons], dtype = tf.float32))\n",
    "Wy = tf.Variable(tf.random_normal(shape = [n_neurons, n_neurons], dtype = tf.float32))\n",
    "b = tf.Variable(tf.zeros([1, n_neurons], dtype = tf.float32))\n",
    "\n",
    "Y0 = tf.tanh(tf.matmul(X0, Wx) + b)\n",
    "Y1 = tf.tanh(tf.matmul(Y0, Wy) + tf.matmul(X1, Wx) + b)\n",
    "\n",
    "init = tf.global_variables_initializer()"
   ]
  },
  {
   "cell_type": "code",
   "execution_count": 5,
   "metadata": {},
   "outputs": [],
   "source": [
    "import numpy as np\n",
    "\n",
    "X0_batch = np.array([[0, 1, 2], [3, 4, 5], [6, 7, 8], [9, 0, 1]]) # t = 0\n",
    "X1_batch = np.array([[9, 8, 7], [0, 0, 0], [6, 5, 4], [3, 2, 1]]) # t = 1\n",
    "\n",
    "with tf.Session() as sess:\n",
    "    init.run()\n",
    "    Y0_val, Y1_val = sess.run([Y0, Y1], feed_dict = {X0: X0_batch, X1: X1_batch})"
   ]
  },
  {
   "cell_type": "code",
   "execution_count": 6,
   "metadata": {},
   "outputs": [
    {
     "name": "stdout",
     "output_type": "stream",
     "text": [
      "[[-0.0664006   0.96257669  0.68105793  0.70918542 -0.89821601]\n",
      " [ 0.9977755  -0.71978897 -0.99657619  0.96739239 -0.99989718]\n",
      " [ 0.99999785 -0.99898815 -0.99999893  0.99677622 -0.99999982]\n",
      " [ 1.         -1.         -1.         -0.99818927  0.99950868]]\n"
     ]
    }
   ],
   "source": [
    "print(Y0_val)"
   ]
  },
  {
   "cell_type": "code",
   "execution_count": 7,
   "metadata": {},
   "outputs": [
    {
     "name": "stdout",
     "output_type": "stream",
     "text": [
      "[[ 1.         -1.         -1.          0.40200275 -0.99999982]\n",
      " [-0.12210425  0.62805289  0.96718431 -0.99371219 -0.25839356]\n",
      " [ 0.99999821 -0.9999994  -0.9999975  -0.85943305 -0.9999879 ]\n",
      " [ 0.99928284 -0.99999803 -0.99990582  0.98579615 -0.92205751]]\n"
     ]
    }
   ],
   "source": [
    "print(Y1_val)"
   ]
  },
  {
   "cell_type": "code",
   "execution_count": 8,
   "metadata": {},
   "outputs": [],
   "source": [
    "n_inputs = 3\n",
    "n_neurons = 5"
   ]
  },
  {
   "cell_type": "code",
   "execution_count": 10,
   "metadata": {},
   "outputs": [],
   "source": [
    "reset_graph()\n",
    "\n",
    "X0 = tf.placeholder(tf.float32, [None, n_inputs])\n",
    "X1 = tf.placeholder(tf.float32, [None, n_inputs])\n",
    "\n",
    "basic_cell = tf.contrib.rnn.BasicRNNCell(num_units = n_neurons)\n",
    "output_seqs, states = tf.contrib.rnn.static_rnn(basic_cell, [X0, X1], dtype = tf.float32)\n",
    "\n",
    "Y0, Y1 = output_seqs"
   ]
  },
  {
   "cell_type": "code",
   "execution_count": 11,
   "metadata": {},
   "outputs": [],
   "source": [
    "init = tf.global_variables_initializer()"
   ]
  },
  {
   "cell_type": "code",
   "execution_count": 12,
   "metadata": {},
   "outputs": [],
   "source": [
    "X0_batch = np.array([[0, 1, 2], [3, 4, 5], [6, 7, 8], [9, 0, 1]])\n",
    "X1_batch = np.array([[9, 8, 7], [0, 0, 0], [6, 5, 4], [3, 2, 1]])\n",
    "\n",
    "with tf.Session() as sess:\n",
    "    init.run()\n",
    "    Y0_val, Y1_val = sess.run([Y0, Y1], feed_dict = {X0: X0_batch, X1: X1_batch})"
   ]
  },
  {
   "cell_type": "code",
   "execution_count": 13,
   "metadata": {},
   "outputs": [
    {
     "data": {
      "text/plain": [
       "array([[ 0.30741334, -0.32884315, -0.65428466, -0.93850589,  0.52089024],\n",
       "       [ 0.99122757, -0.95425403, -0.75180787, -0.99952078,  0.98202348],\n",
       "       [ 0.99992681, -0.99783254, -0.82473528, -0.9999963 ,  0.99947792],\n",
       "       [ 0.99677098, -0.68750614,  0.84199691,  0.93039113,  0.81206834]], dtype=float32)"
      ]
     },
     "execution_count": 13,
     "metadata": {},
     "output_type": "execute_result"
    }
   ],
   "source": [
    "Y0_val"
   ]
  },
  {
   "cell_type": "code",
   "execution_count": 14,
   "metadata": {},
   "outputs": [
    {
     "data": {
      "text/plain": [
       "array([[ 0.99998897, -0.99976057, -0.0667929 , -0.99998027,  0.99982214],\n",
       "       [-0.65249431, -0.51520866, -0.37968946, -0.59225935, -0.08968391],\n",
       "       [ 0.99862397, -0.99715203, -0.03308637, -0.99915659,  0.99329019],\n",
       "       [ 0.99681675, -0.95981938,  0.3966063 , -0.83076054,  0.79671967]], dtype=float32)"
      ]
     },
     "execution_count": 14,
     "metadata": {},
     "output_type": "execute_result"
    }
   ],
   "source": [
    "Y1_val"
   ]
  },
  {
   "cell_type": "code",
   "execution_count": 3,
   "metadata": {},
   "outputs": [],
   "source": [
    "n_steps = 2\n",
    "n_inputs = 3\n",
    "n_neurons = 5"
   ]
  },
  {
   "cell_type": "code",
   "execution_count": 4,
   "metadata": {},
   "outputs": [],
   "source": [
    "reset_graph()\n",
    "\n",
    "X = tf.placeholder(tf.float32, [None, n_steps, n_inputs])\n",
    "X_seqs = tf.unstack(tf.transpose(X, perm = [1, 0, 2]))\n",
    "\n",
    "basic_cell = tf.contrib.rnn.BasicRNNCell(num_units = n_neurons)\n",
    "output_seqs, states = tf.contrib.rnn.static_rnn(basic_cell, X_seqs, dtype = tf.float32)\n",
    "\n",
    "outputs = tf.transpose(tf.stack(output_seqs), perm = [1, 0, 2])"
   ]
  },
  {
   "cell_type": "code",
   "execution_count": 5,
   "metadata": {},
   "outputs": [],
   "source": [
    "init = tf.global_variables_initializer()"
   ]
  },
  {
   "cell_type": "code",
   "execution_count": 6,
   "metadata": {},
   "outputs": [],
   "source": [
    "X_batch = np.array([\n",
    "        # t = 0      t = 1 \n",
    "        [[0, 1, 2], [9, 8, 7]], # instance 1\n",
    "        [[3, 4, 5], [0, 0, 0]], # instance 2\n",
    "        [[6, 7, 8], [6, 5, 4]], # instance 3\n",
    "        [[9, 0, 1], [3, 2, 1]], # instance 4\n",
    "    ])\n",
    "\n",
    "with tf.Session() as sess:\n",
    "    init.run()\n",
    "    outputs_val = outputs.eval(feed_dict = {X: X_batch})"
   ]
  },
  {
   "cell_type": "code",
   "execution_count": 7,
   "metadata": {},
   "outputs": [
    {
     "data": {
      "text/plain": [
       "(4, 2, 3)"
      ]
     },
     "execution_count": 7,
     "metadata": {},
     "output_type": "execute_result"
    }
   ],
   "source": [
    "X_batch.shape"
   ]
  },
  {
   "cell_type": "code",
   "execution_count": 9,
   "metadata": {},
   "outputs": [
    {
     "name": "stdout",
     "output_type": "stream",
     "text": [
      "[[[-0.45652324 -0.68064123  0.40938237  0.63104504 -0.45732826]\n",
      "  [-0.94287997 -0.99988699  0.94055808  0.99999839 -0.99999982]]\n",
      "\n",
      " [[-0.80015343 -0.99218267  0.78177965  0.99710321 -0.99646091]\n",
      "  [-0.63711601  0.11300927  0.5798437   0.4310559  -0.6371699 ]]\n",
      "\n",
      " [[-0.93605185 -0.99983788  0.93088669  0.9999814  -0.99998307]\n",
      "  [-0.9165386  -0.99456048  0.89605403  0.99987197 -0.99997509]]\n",
      "\n",
      " [[ 0.9927367  -0.99819332 -0.55543643  0.9989031  -0.9953323 ]\n",
      "  [-0.02746338 -0.73191983  0.7827872   0.95256811 -0.97817701]]]\n"
     ]
    }
   ],
   "source": [
    "print(outputs_val)"
   ]
  },
  {
   "cell_type": "code",
   "execution_count": 12,
   "metadata": {},
   "outputs": [],
   "source": [
    "n_steps = 2\n",
    "n_inputs = 3\n",
    "n_neurons = 5"
   ]
  },
  {
   "cell_type": "code",
   "execution_count": 13,
   "metadata": {},
   "outputs": [],
   "source": [
    "reset_graph()\n",
    "\n",
    "X = tf.placeholder(tf.float32, [None, n_steps, n_inputs])\n",
    "\n",
    "basic_cell = tf.contrib.rnn.BasicRNNCell(num_units = n_neurons)\n",
    "outputs, states = tf.nn.dynamic_rnn(basic_cell, X, dtype = tf.float32)"
   ]
  },
  {
   "cell_type": "code",
   "execution_count": 14,
   "metadata": {},
   "outputs": [],
   "source": [
    "init = tf.global_variables_initializer()"
   ]
  },
  {
   "cell_type": "code",
   "execution_count": 15,
   "metadata": {},
   "outputs": [],
   "source": [
    "X_batch = np.array([\n",
    "        [[0, 1, 2], [9, 8, 7]], # instance 1\n",
    "        [[3, 4, 5], [0, 0, 0]], # instance 2\n",
    "        [[6, 7, 8], [6, 5, 4]], # instance 3\n",
    "        [[9, 0, 1], [3, 2, 1]], # instance 4\n",
    "    ])\n",
    "\n",
    "with tf.Session() as sess:\n",
    "    init.run()\n",
    "    outputs_val, states_val = sess.run([outputs, states], feed_dict = {X: X_batch})"
   ]
  },
  {
   "cell_type": "code",
   "execution_count": 16,
   "metadata": {},
   "outputs": [
    {
     "name": "stdout",
     "output_type": "stream",
     "text": [
      "[[[-0.46430176 -0.04473137  0.45657092 -0.601556   -0.28795418]\n",
      "  [-0.99999988 -0.97130966  0.99933434 -0.6387586  -0.90433723]]\n",
      "\n",
      " [[-0.9983902  -0.71462387  0.95593154 -0.86314547 -0.68196076]\n",
      "  [ 0.52432048  0.32354674  0.54770964  0.32016146 -0.60165441]]\n",
      "\n",
      " [[-0.99999648 -0.94119084  0.99728239 -0.95754659 -0.87851131]\n",
      "  [-0.99987793 -0.88867241  0.99540216 -0.22945848 -0.91968971]]\n",
      "\n",
      " [[-0.99997151 -0.75314504  0.73893744 -0.93929273  0.46864882]\n",
      "  [-0.96881706 -0.10343011  0.8409428  -0.09726928 -0.28027278]]]\n"
     ]
    }
   ],
   "source": [
    "print(outputs_val)"
   ]
  },
  {
   "cell_type": "code",
   "execution_count": 17,
   "metadata": {},
   "outputs": [
    {
     "name": "stdout",
     "output_type": "stream",
     "text": [
      "[[-0.99999988 -0.97130966  0.99933434 -0.6387586  -0.90433723]\n",
      " [ 0.52432048  0.32354674  0.54770964  0.32016146 -0.60165441]\n",
      " [-0.99987793 -0.88867241  0.99540216 -0.22945848 -0.91968971]\n",
      " [-0.96881706 -0.10343011  0.8409428  -0.09726928 -0.28027278]]\n"
     ]
    }
   ],
   "source": [
    "print(states_val)"
   ]
  },
  {
   "cell_type": "code",
   "execution_count": null,
   "metadata": {},
   "outputs": [],
   "source": []
  },
  {
   "cell_type": "code",
   "execution_count": 4,
   "metadata": {},
   "outputs": [],
   "source": [
    "n_steps = 2\n",
    "n_inputs = 3\n",
    "n_neurons = 5\n",
    "\n",
    "reset_graph()\n",
    "\n",
    "X = tf.placeholder(tf.float32, [None, n_steps, n_inputs])\n",
    "\n",
    "basic_cell = tf.contrib.rnn.BasicRNNCell(num_units = n_neurons)"
   ]
  },
  {
   "cell_type": "code",
   "execution_count": 5,
   "metadata": {},
   "outputs": [],
   "source": [
    "seq_length = tf.placeholder(tf.int32, [None])"
   ]
  },
  {
   "cell_type": "code",
   "execution_count": 6,
   "metadata": {},
   "outputs": [],
   "source": [
    "outputs, states = tf.nn.dynamic_rnn(basic_cell, X, dtype = tf.float32, sequence_length = seq_length)"
   ]
  },
  {
   "cell_type": "code",
   "execution_count": 7,
   "metadata": {},
   "outputs": [],
   "source": [
    "init = tf.global_variables_initializer()"
   ]
  },
  {
   "cell_type": "code",
   "execution_count": 8,
   "metadata": {},
   "outputs": [],
   "source": [
    "X_batch = np.array([\n",
    "        # step 0     step 1\n",
    "        [[0, 1, 2], [9, 8, 7]], # instance 1\n",
    "        [[3, 4, 5], [0, 0, 0]], # instance 2 (padded with zero vectors)\n",
    "        [[6, 7, 8], [6, 5, 4]], # instance 3\n",
    "        [[9, 0, 1], [3, 2, 1]], # instance 4\n",
    "    ])\n",
    "seq_length_batch = np.array([2, 1, 2, 2])"
   ]
  },
  {
   "cell_type": "code",
   "execution_count": 9,
   "metadata": {},
   "outputs": [],
   "source": [
    "with tf.Session() as sess:\n",
    "    init.run()\n",
    "    \n",
    "    outputs_val, states_val = sess.run(\n",
    "    [outputs, states], feed_dict = {X: X_batch, seq_length: seq_length_batch})"
   ]
  },
  {
   "cell_type": "code",
   "execution_count": 10,
   "metadata": {},
   "outputs": [
    {
     "name": "stdout",
     "output_type": "stream",
     "text": [
      "[[[ 0.65519077 -0.38949275 -0.6105231   0.59276378 -0.48083815]\n",
      "  [ 0.99999392  0.99594402  0.45825899  0.99916971  0.89911348]]\n",
      "\n",
      " [[ 0.99782628  0.44117272 -0.59160739  0.97499579 -0.35678416]\n",
      "  [ 0.          0.          0.          0.          0.        ]]\n",
      "\n",
      " [[ 0.99998862  0.87606186 -0.57201713  0.99874693 -0.21872665]\n",
      "  [ 0.99956119  0.98087293  0.88909107  0.97684324  0.52034187]]\n",
      "\n",
      " [[ 0.99904662  0.92710745  0.23267001  0.9804318   0.99994713]\n",
      "  [ 0.97913378  0.71947402  0.93568647  0.63649684 -0.1785471 ]]]\n"
     ]
    }
   ],
   "source": [
    "print(outputs_val)"
   ]
  },
  {
   "cell_type": "code",
   "execution_count": 11,
   "metadata": {},
   "outputs": [
    {
     "name": "stdout",
     "output_type": "stream",
     "text": [
      "[[ 0.99999392  0.99594402  0.45825899  0.99916971  0.89911348]\n",
      " [ 0.99782628  0.44117272 -0.59160739  0.97499579 -0.35678416]\n",
      " [ 0.99956119  0.98087293  0.88909107  0.97684324  0.52034187]\n",
      " [ 0.97913378  0.71947402  0.93568647  0.63649684 -0.1785471 ]]\n"
     ]
    }
   ],
   "source": [
    "print(states_val)"
   ]
  },
  {
   "cell_type": "code",
   "execution_count": 4,
   "metadata": {},
   "outputs": [],
   "source": [
    "reset_graph()\n",
    "\n",
    "n_steps = 28\n",
    "n_inputs = 28\n",
    "n_neurons = 150\n",
    "n_outputs = 10\n",
    "\n",
    "learning_rate = 0.001\n",
    "\n",
    "X = tf.placeholder(tf.float32, [None, n_steps, n_inputs])\n",
    "y = tf.placeholder(tf.int32, [None])\n",
    "\n",
    "basic_cell = tf.contrib.rnn.BasicRNNCell(num_units = n_neurons)\n",
    "outputs, states = tf.nn.dynamic_rnn(basic_cell, X, dtype = tf.float32)\n",
    "\n",
    "logits = tf.layers.dense(states, n_outputs)\n",
    "\n",
    "xentropy = tf.nn.sparse_softmax_cross_entropy_with_logits(labels = y, logits = logits)\n",
    "loss = tf.reduce_mean(xentropy)\n",
    "\n",
    "optimizer = tf.train.AdamOptimizer(learning_rate = learning_rate)\n",
    "\n",
    "training_op = optimizer.minimize(loss)\n",
    "\n",
    "correct = tf.nn.in_top_k(logits, y, 1)\n",
    "accuracy = tf.reduce_mean(tf.cast(correct, tf.float32))\n",
    "\n",
    "init = tf.global_variables_initializer()"
   ]
  },
  {
   "cell_type": "code",
   "execution_count": 5,
   "metadata": {},
   "outputs": [
    {
     "name": "stdout",
     "output_type": "stream",
     "text": [
      "Extracting /tmp/data/train-images-idx3-ubyte.gz\n",
      "Extracting /tmp/data/train-labels-idx1-ubyte.gz\n",
      "Extracting /tmp/data/t10k-images-idx3-ubyte.gz\n",
      "Extracting /tmp/data/t10k-labels-idx1-ubyte.gz\n"
     ]
    }
   ],
   "source": [
    "from tensorflow.examples.tutorials.mnist import input_data\n",
    "\n",
    "mnist = input_data.read_data_sets('/tmp/data')\n",
    "X_test = mnist.test.images.reshape((-1, n_steps, n_inputs))\n",
    "y_test = mnist.test.labels"
   ]
  },
  {
   "cell_type": "code",
   "execution_count": 23,
   "metadata": {},
   "outputs": [
    {
     "name": "stdout",
     "output_type": "stream",
     "text": [
      "0 Train accuracy: 0.933333 Test accuracy: 0.923\n",
      "1 Train accuracy: 0.953333 Test accuracy: 0.9533\n",
      "2 Train accuracy: 0.96 Test accuracy: 0.954\n",
      "3 Train accuracy: 0.973333 Test accuracy: 0.9528\n",
      "4 Train accuracy: 0.94 Test accuracy: 0.9637\n",
      "5 Train accuracy: 0.96 Test accuracy: 0.9675\n",
      "6 Train accuracy: 0.98 Test accuracy: 0.9731\n",
      "7 Train accuracy: 0.98 Test accuracy: 0.9683\n",
      "8 Train accuracy: 0.953333 Test accuracy: 0.9716\n",
      "9 Train accuracy: 0.966667 Test accuracy: 0.9681\n",
      "10 Train accuracy: 0.973333 Test accuracy: 0.971\n",
      "11 Train accuracy: 0.973333 Test accuracy: 0.9679\n",
      "12 Train accuracy: 0.973333 Test accuracy: 0.972\n",
      "13 Train accuracy: 0.98 Test accuracy: 0.9773\n",
      "14 Train accuracy: 0.986667 Test accuracy: 0.9767\n",
      "15 Train accuracy: 1.0 Test accuracy: 0.9715\n",
      "16 Train accuracy: 1.0 Test accuracy: 0.9748\n",
      "17 Train accuracy: 0.993333 Test accuracy: 0.9757\n",
      "18 Train accuracy: 0.973333 Test accuracy: 0.9718\n",
      "19 Train accuracy: 0.986667 Test accuracy: 0.979\n",
      "20 Train accuracy: 0.986667 Test accuracy: 0.9738\n",
      "21 Train accuracy: 0.973333 Test accuracy: 0.9767\n",
      "22 Train accuracy: 0.98 Test accuracy: 0.9767\n",
      "23 Train accuracy: 0.993333 Test accuracy: 0.9773\n",
      "24 Train accuracy: 0.98 Test accuracy: 0.9713\n",
      "25 Train accuracy: 0.993333 Test accuracy: 0.9768\n",
      "26 Train accuracy: 0.986667 Test accuracy: 0.9759\n",
      "27 Train accuracy: 1.0 Test accuracy: 0.9768\n",
      "28 Train accuracy: 0.966667 Test accuracy: 0.9777\n",
      "29 Train accuracy: 0.98 Test accuracy: 0.9744\n",
      "30 Train accuracy: 0.986667 Test accuracy: 0.978\n",
      "31 Train accuracy: 1.0 Test accuracy: 0.978\n",
      "32 Train accuracy: 0.986667 Test accuracy: 0.9788\n",
      "33 Train accuracy: 0.973333 Test accuracy: 0.9779\n",
      "34 Train accuracy: 0.986667 Test accuracy: 0.9775\n",
      "35 Train accuracy: 1.0 Test accuracy: 0.9776\n",
      "36 Train accuracy: 1.0 Test accuracy: 0.9766\n",
      "37 Train accuracy: 1.0 Test accuracy: 0.9807\n",
      "38 Train accuracy: 0.993333 Test accuracy: 0.9806\n",
      "39 Train accuracy: 1.0 Test accuracy: 0.9824\n",
      "40 Train accuracy: 0.993333 Test accuracy: 0.976\n",
      "41 Train accuracy: 0.986667 Test accuracy: 0.9678\n",
      "42 Train accuracy: 1.0 Test accuracy: 0.9804\n",
      "43 Train accuracy: 0.993333 Test accuracy: 0.9772\n",
      "44 Train accuracy: 0.98 Test accuracy: 0.9783\n",
      "45 Train accuracy: 0.986667 Test accuracy: 0.9771\n",
      "46 Train accuracy: 0.986667 Test accuracy: 0.9771\n",
      "47 Train accuracy: 1.0 Test accuracy: 0.9797\n",
      "48 Train accuracy: 0.993333 Test accuracy: 0.9789\n",
      "49 Train accuracy: 1.0 Test accuracy: 0.9771\n",
      "50 Train accuracy: 1.0 Test accuracy: 0.977\n",
      "51 Train accuracy: 0.993333 Test accuracy: 0.9786\n",
      "52 Train accuracy: 0.993333 Test accuracy: 0.9748\n",
      "53 Train accuracy: 0.98 Test accuracy: 0.9766\n",
      "54 Train accuracy: 1.0 Test accuracy: 0.9782\n",
      "55 Train accuracy: 0.986667 Test accuracy: 0.977\n",
      "56 Train accuracy: 0.993333 Test accuracy: 0.981\n",
      "57 Train accuracy: 1.0 Test accuracy: 0.9776\n",
      "58 Train accuracy: 0.973333 Test accuracy: 0.9786\n",
      "59 Train accuracy: 0.993333 Test accuracy: 0.9767\n",
      "60 Train accuracy: 1.0 Test accuracy: 0.9722\n",
      "61 Train accuracy: 1.0 Test accuracy: 0.9776\n",
      "62 Train accuracy: 1.0 Test accuracy: 0.98\n",
      "63 Train accuracy: 1.0 Test accuracy: 0.9793\n",
      "64 Train accuracy: 1.0 Test accuracy: 0.9772\n",
      "65 Train accuracy: 1.0 Test accuracy: 0.9798\n",
      "66 Train accuracy: 0.986667 Test accuracy: 0.9734\n",
      "67 Train accuracy: 0.993333 Test accuracy: 0.9667\n",
      "68 Train accuracy: 0.98 Test accuracy: 0.9721\n",
      "69 Train accuracy: 0.993333 Test accuracy: 0.967\n",
      "70 Train accuracy: 0.993333 Test accuracy: 0.9817\n",
      "71 Train accuracy: 1.0 Test accuracy: 0.9819\n",
      "72 Train accuracy: 1.0 Test accuracy: 0.9789\n",
      "73 Train accuracy: 0.986667 Test accuracy: 0.9754\n",
      "74 Train accuracy: 0.986667 Test accuracy: 0.9753\n",
      "75 Train accuracy: 0.993333 Test accuracy: 0.9778\n",
      "76 Train accuracy: 0.993333 Test accuracy: 0.9719\n",
      "77 Train accuracy: 1.0 Test accuracy: 0.9809\n",
      "78 Train accuracy: 1.0 Test accuracy: 0.9739\n",
      "79 Train accuracy: 0.986667 Test accuracy: 0.9791\n",
      "80 Train accuracy: 0.986667 Test accuracy: 0.9812\n",
      "81 Train accuracy: 0.993333 Test accuracy: 0.9807\n",
      "82 Train accuracy: 0.993333 Test accuracy: 0.9784\n",
      "83 Train accuracy: 1.0 Test accuracy: 0.978\n",
      "84 Train accuracy: 0.986667 Test accuracy: 0.9789\n",
      "85 Train accuracy: 1.0 Test accuracy: 0.9772\n",
      "86 Train accuracy: 1.0 Test accuracy: 0.9808\n",
      "87 Train accuracy: 0.993333 Test accuracy: 0.978\n",
      "88 Train accuracy: 1.0 Test accuracy: 0.9804\n",
      "89 Train accuracy: 0.986667 Test accuracy: 0.975\n",
      "90 Train accuracy: 0.993333 Test accuracy: 0.9807\n",
      "91 Train accuracy: 0.993333 Test accuracy: 0.9769\n",
      "92 Train accuracy: 1.0 Test accuracy: 0.9763\n",
      "93 Train accuracy: 1.0 Test accuracy: 0.9752\n",
      "94 Train accuracy: 0.98 Test accuracy: 0.9733\n",
      "95 Train accuracy: 0.993333 Test accuracy: 0.9798\n",
      "96 Train accuracy: 0.993333 Test accuracy: 0.9803\n",
      "97 Train accuracy: 1.0 Test accuracy: 0.9742\n",
      "98 Train accuracy: 0.986667 Test accuracy: 0.9777\n",
      "99 Train accuracy: 0.993333 Test accuracy: 0.9736\n"
     ]
    }
   ],
   "source": [
    "n_epochs = 100\n",
    "batch_size = 150\n",
    "\n",
    "with tf.Session() as sess:\n",
    "    init.run()\n",
    "    \n",
    "    for epoch in range(n_epochs):\n",
    "        for iteration in range(mnist.train.num_examples // batch_size):\n",
    "            X_batch, y_batch = mnist.train.next_batch(batch_size)\n",
    "            X_batch = X_batch.reshape((-1, n_steps, n_inputs))\n",
    "            sess.run(training_op, feed_dict = {X: X_batch, y: y_batch})\n",
    "            \n",
    "        acc_train = accuracy.eval(feed_dict = {X: X_batch, y: y_batch})\n",
    "        acc_test = accuracy.eval(feed_dict = {X: X_test, y: y_test})\n",
    "        \n",
    "        print(epoch, \"Train accuracy:\", acc_train, \"Test accuracy:\", acc_test)"
   ]
  },
  {
   "cell_type": "code",
   "execution_count": 19,
   "metadata": {},
   "outputs": [],
   "source": [
    "reset_graph()\n",
    "\n",
    "n_steps = 28\n",
    "n_inputs = 28\n",
    "n_outputs = 10\n",
    "\n",
    "learning_rate = 0.001\n",
    "\n",
    "X = tf.placeholder(tf.float32, [None, n_steps, n_inputs])\n",
    "y = tf.placeholder(tf.int32, [None])"
   ]
  },
  {
   "cell_type": "code",
   "execution_count": 20,
   "metadata": {},
   "outputs": [],
   "source": [
    "n_neurons = 100\n",
    "n_layers = 3\n",
    "\n",
    "layers = [tf.contrib.rnn.BasicRNNCell(num_units = n_neurons, activation = tf.nn.relu) for layer in range(n_layers)]\n",
    "multi_layer_cell = tf.contrib.rnn.MultiRNNCell(layers)\n",
    "outputs, states = tf.nn.dynamic_rnn(multi_layer_cell, X, dtype = tf.float32)"
   ]
  },
  {
   "cell_type": "code",
   "execution_count": 21,
   "metadata": {},
   "outputs": [],
   "source": [
    "states_concat = tf.concat(axis = 1, values = states)\n",
    "\n",
    "logits = tf.layers.dense(states_concat, n_outputs)\n",
    "\n",
    "xentropy = tf.nn.sparse_softmax_cross_entropy_with_logits(labels = y, logits = logits)\n",
    "loss = tf.reduce_mean(xentropy)\n",
    "\n",
    "optimizer = tf.train.AdamOptimizer(learning_rate = learning_rate)\n",
    "training_op = optimizer.minimize(loss)\n",
    "\n",
    "correct = tf.nn.in_top_k(logits, y, 1)\n",
    "accuracy = tf.reduce_mean(tf.cast(correct, tf.float32))\n",
    "\n",
    "init = tf.global_variables_initializer()"
   ]
  },
  {
   "cell_type": "code",
   "execution_count": 27,
   "metadata": {},
   "outputs": [
    {
     "name": "stdout",
     "output_type": "stream",
     "text": [
      "0 Train accuracy: 0.96 Test accuracy: 0.9534\n",
      "1 Train accuracy: 0.946667 Test accuracy: 0.9574\n",
      "2 Train accuracy: 0.986667 Test accuracy: 0.9743\n",
      "3 Train accuracy: 0.98 Test accuracy: 0.9718\n",
      "4 Train accuracy: 0.953333 Test accuracy: 0.9721\n",
      "5 Train accuracy: 0.993333 Test accuracy: 0.9748\n",
      "6 Train accuracy: 0.986667 Test accuracy: 0.9769\n",
      "7 Train accuracy: 0.98 Test accuracy: 0.9753\n",
      "8 Train accuracy: 0.966667 Test accuracy: 0.9775\n",
      "9 Train accuracy: 1.0 Test accuracy: 0.9788\n"
     ]
    }
   ],
   "source": [
    "n_epochs = 10\n",
    "batch_size = 150\n",
    "\n",
    "with tf.Session() as sess:\n",
    "    init.run()\n",
    "    for epoch in range(n_epochs):\n",
    "        for iteration in range(mnist.train.num_examples // batch_size):\n",
    "            X_batch, y_batch = mnist.train.next_batch(batch_size)\n",
    "            X_batch = X_batch.reshape(-1, n_steps, n_inputs)\n",
    "            sess.run(training_op, feed_dict = {X: X_batch, y: y_batch})\n",
    "        acc_train = accuracy.eval(feed_dict = {X: X_batch, y: y_batch})\n",
    "        acc_test = accuracy.eval(feed_dict = {X: X_test, y: y_test})\n",
    "        state_val, state_concat_val = sess.run([states, states_concat], feed_dict = {X: X_test, y: y_test})\n",
    "        print(epoch, \"Train accuracy:\", acc_train, \"Test accuracy:\", acc_test)"
   ]
  },
  {
   "cell_type": "code",
   "execution_count": 33,
   "metadata": {},
   "outputs": [
    {
     "name": "stdout",
     "output_type": "stream",
     "text": [
      "(10000, 300)\n"
     ]
    }
   ],
   "source": [
    "print(state_concat_val.shape)"
   ]
  },
  {
   "cell_type": "code",
   "execution_count": 34,
   "metadata": {},
   "outputs": [
    {
     "data": {
      "text/plain": [
       "(10000, 28, 28)"
      ]
     },
     "execution_count": 34,
     "metadata": {},
     "output_type": "execute_result"
    }
   ],
   "source": [
    "X_test.shape"
   ]
  },
  {
   "cell_type": "code",
   "execution_count": 41,
   "metadata": {},
   "outputs": [
    {
     "data": {
      "text/plain": [
       "(10000, 100)"
      ]
     },
     "execution_count": 41,
     "metadata": {},
     "output_type": "execute_result"
    }
   ],
   "source": [
    "state_val[2].shape"
   ]
  },
  {
   "cell_type": "code",
   "execution_count": 45,
   "metadata": {},
   "outputs": [],
   "source": [
    "t_min, t_max = 0, 30\n",
    "resolution = 0.1\n",
    "\n",
    "def time_series(t):\n",
    "    return t * np.sin(t) / 3 + 2 * np.sin(t * 5)\n",
    "\n",
    "def next_batch(batch_size, n_steps):\n",
    "    t0 = np.random.rand(batch_size, 1) * (t_max - t_min - n_steps * resolution)\n",
    "    Ts = t0 + np.arange(0., n_steps + 1) * resolution\n",
    "    ys = time_series(Ts)\n",
    "    \n",
    "    return ys[:, :-1].reshape(-1, n_steps, 1), ys[:, 1:].reshape(-1, n_steps, 1)"
   ]
  },
  {
   "cell_type": "code",
   "execution_count": 46,
   "metadata": {},
   "outputs": [
    {
     "data": {
      "image/png": "[encoded data removed]",
      "text/plain": [
       "<matplotlib.figure.Figure at 0x110972470>"
      ]
     },
     "metadata": {},
     "output_type": "display_data"
    }
   ],
   "source": [
    "t = np.linspace(t_min, t_max, int((t_max - t_min) / resolution))\n",
    "\n",
    "n_steps = 20\n",
    "t_instance = np.linspace(12.2, 12.2 + resolution * (n_steps + 1), n_steps + 1)\n",
    "\n",
    "plt.figure(figsize=(11,4))\n",
    "plt.subplot(121)\n",
    "plt.title(\"A time series (generated)\", fontsize=14)\n",
    "plt.plot(t, time_series(t), label=r\"$t . \\sin(t) / 3 + 2 . \\sin(5t)$\")\n",
    "plt.plot(t_instance[:-1], time_series(t_instance[:-1]), \"b-\", linewidth=3, label=\"A training instance\")\n",
    "plt.legend(loc=\"lower left\", fontsize=14)\n",
    "plt.axis([0, 30, -17, 13])\n",
    "plt.xlabel(\"Time\")\n",
    "plt.ylabel(\"Value\")\n",
    "\n",
    "plt.subplot(122)\n",
    "plt.title(\"A training instance\", fontsize=14)\n",
    "plt.plot(t_instance[:-1], time_series(t_instance[:-1]), \"bo\", markersize=10, label=\"instance\")\n",
    "plt.plot(t_instance[1:], time_series(t_instance[1:]), \"w*\", markersize=10, label=\"target\")\n",
    "plt.legend(loc=\"upper left\")\n",
    "plt.xlabel(\"Time\")\n",
    "\n",
    "\n",
    "# save_fig(\"time_series_plot\")\n",
    "plt.show()"
   ]
  },
  {
   "cell_type": "code",
   "execution_count": 47,
   "metadata": {},
   "outputs": [],
   "source": [
    "X_batch, y_batch = next_batch(1, n_steps)"
   ]
  },
  {
   "cell_type": "code",
   "execution_count": 48,
   "metadata": {},
   "outputs": [
    {
     "data": {
      "text/plain": [
       "array([[ 0.8424461 ,  0.35290769],\n",
       "       [ 0.35290769, -0.51614929],\n",
       "       [-0.51614929, -1.57283982],\n",
       "       [-1.57283982, -2.57680734],\n",
       "       [-2.57680734, -3.29774113],\n",
       "       [-3.29774113, -3.57145805],\n",
       "       [-3.57145805, -3.33982264],\n",
       "       [-3.33982264, -2.66473592],\n",
       "       [-2.66473592, -1.71277197],\n",
       "       [-1.71277197, -0.7142275 ],\n",
       "       [-0.7142275 ,  0.09338633],\n",
       "       [ 0.09338633,  0.52357201],\n",
       "       [ 0.52357201,  0.48653496],\n",
       "       [ 0.48653496,  0.01114626],\n",
       "       [ 0.01114626, -0.76219977],\n",
       "       [-0.76219977, -1.61608472],\n",
       "       [-1.61608472, -2.30947541],\n",
       "       [-2.30947541, -2.63696616],\n",
       "       [-2.63696616, -2.47934787],\n",
       "       [-2.47934787, -1.83312113]])"
      ]
     },
     "execution_count": 48,
     "metadata": {},
     "output_type": "execute_result"
    }
   ],
   "source": [
    "np.c_[X_batch[0], y_batch[0]]"
   ]
  },
  {
   "cell_type": "code",
   "execution_count": null,
   "metadata": {},
   "outputs": [],
   "source": []
  }
 ],
 "metadata": {
  "kernelspec": {
   "display_name": "Python 3",
   "language": "python",
   "name": "python3"
  },
  "language_info": {
   "codemirror_mode": {
    "name": "ipython",
    "version": 3
   },
   "file_extension": ".py",
   "mimetype": "text/x-python",
   "name": "python",
   "nbconvert_exporter": "python",
   "pygments_lexer": "ipython3",
   "version": "3.5.4"
  }
 },
 "nbformat": 4,
 "nbformat_minor": 2
}
