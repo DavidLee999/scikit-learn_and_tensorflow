{
 "cells": [
  {
   "cell_type": "code",
   "execution_count": 1,
   "metadata": {},
   "outputs": [],
   "source": [
    "# To support both python 2 and python 3\n",
    "from __future__ import division, print_function, unicode_literals\n",
    "\n",
    "# Common imports\n",
    "import numpy as np\n",
    "import os\n",
    "import sys\n",
    "\n",
    "# to make this notebook's output stable across runs\n",
    "def reset_graph(seed=42):\n",
    "    tf.reset_default_graph()\n",
    "    tf.set_random_seed(seed)\n",
    "    np.random.seed(seed)\n",
    "\n",
    "# To plot pretty figures\n",
    "%matplotlib inline\n",
    "import matplotlib\n",
    "import matplotlib.pyplot as plt\n",
    "plt.rcParams['axes.labelsize'] = 14\n",
    "plt.rcParams['xtick.labelsize'] = 12\n",
    "plt.rcParams['ytick.labelsize'] = 12\n",
    "\n",
    "# Where to save the figures\n",
    "PROJECT_ROOT_DIR = \".\"\n",
    "CHAPTER_ID = \"autoencoders\"\n",
    "\n",
    "def save_fig(fig_id, tight_layout=True):\n",
    "    path = os.path.join(PROJECT_ROOT_DIR, \"images\", CHAPTER_ID, fig_id + \".png\")\n",
    "    print(\"Saving figure\", fig_id)\n",
    "    if tight_layout:\n",
    "        plt.tight_layout()\n",
    "    plt.savefig(path, format='png', dpi=300)"
   ]
  },
  {
   "cell_type": "code",
   "execution_count": 2,
   "metadata": {},
   "outputs": [],
   "source": [
    "def plot_image(image, shape=[28, 28]):\n",
    "    plt.imshow(image.reshape(shape), cmap=\"Greys\", interpolation=\"nearest\")\n",
    "    plt.axis(\"off\")"
   ]
  },
  {
   "cell_type": "code",
   "execution_count": 3,
   "metadata": {},
   "outputs": [],
   "source": [
    "def plot_multiple_images(images, n_rows, n_cols, pad=2):\n",
    "    images = images - images.min()  # make the minimum == 0, so the padding looks white\n",
    "    w,h = images.shape[1:]\n",
    "    image = np.zeros(((w+pad)*n_rows+pad, (h+pad)*n_cols+pad))\n",
    "    for y in range(n_rows):\n",
    "        for x in range(n_cols):\n",
    "            image[(y*(h+pad)+pad):(y*(h+pad)+pad+h),(x*(w+pad)+pad):(x*(w+pad)+pad+w)] = images[y*n_cols+x]\n",
    "    plt.imshow(image, cmap=\"Greys\", interpolation=\"nearest\")\n",
    "    plt.axis(\"off\")"
   ]
  },
  {
   "cell_type": "code",
   "execution_count": 11,
   "metadata": {},
   "outputs": [],
   "source": [
    "import numpy.random as rnd\n",
    "\n",
    "rnd.seed(4)\n",
    "m = 200\n",
    "w1, w2 = 0.1, 0.3\n",
    "noise = 0.1\n",
    "\n",
    "angles = rnd.rand(m) * 3 * np.pi / 2 - 0.5\n",
    "data = np.empty((m, 3))\n",
    "data[:, 0] = np.cos(angles) + np.sin(angles)/2 + noise * rnd.randn(m) / 2\n",
    "data[:, 1] = np.sin(angles) * 0.7 + noise * rnd.randn(m) / 2\n",
    "data[:, 2] = data[:, 0] * w1 + data[:, 1] * w2 + noise * rnd.randn(m)"
   ]
  },
  {
   "cell_type": "code",
   "execution_count": 5,
   "metadata": {},
   "outputs": [],
   "source": [
    "from sklearn.preprocessing import StandardScaler\n",
    "\n",
    "scaler = StandardScaler()\n",
    "X_train = scaler.fit_transform(data[:100])\n",
    "X_test = scaler.transform(data[100:])"
   ]
  },
  {
   "cell_type": "code",
   "execution_count": 6,
   "metadata": {},
   "outputs": [],
   "source": [
    "import tensorflow as tf\n",
    "\n",
    "reset_graph()\n",
    "\n",
    "n_inputs = 3\n",
    "n_hidden = 2\n",
    "n_outputs = n_inputs\n",
    "\n",
    "learning_rate = 0.01\n",
    "\n",
    "X = tf.placeholder(tf.float32, shape = [None, n_inputs])\n",
    "hidden = tf.layers.dense(X, n_hidden)\n",
    "outputs = tf.layers.dense(hidden, n_outputs)\n",
    "\n",
    "reconstruction_loss = tf.reduce_mean(tf.square(outputs - X))\n",
    "\n",
    "optimizer = tf.train.AdamOptimizer(learning_rate)\n",
    "training_op = optimizer.minimize(reconstruction_loss)\n",
    "\n",
    "init = tf.global_variables_initializer()"
   ]
  },
  {
   "cell_type": "code",
   "execution_count": 7,
   "metadata": {},
   "outputs": [],
   "source": [
    "n_iterations = 1000\n",
    "codings = hidden\n",
    "\n",
    "with tf.Session() as sess:\n",
    "    init.run()\n",
    "    for iteration in range(n_iterations):\n",
    "        training_op.run(feed_dict = {X: X_train})\n",
    "    \n",
    "    coding_val = codings.eval(feed_dict = {X: X_test})"
   ]
  },
  {
   "cell_type": "code",
   "execution_count": 11,
   "metadata": {},
   "outputs": [
    {
     "data": {
      "image/png": "[encoded data removed]",
      "text/plain": [
       "<matplotlib.figure.Figure at 0x1246b8470>"
      ]
     },
     "metadata": {},
     "output_type": "display_data"
    }
   ],
   "source": [
    "fig = plt.figure(figsize=(4,3))\n",
    "plt.plot(coding_val[:,0], coding_val[:, 1], \"b.\")\n",
    "plt.xlabel(\"$z_1$\", fontsize=18)\n",
    "plt.ylabel(\"$z_2$\", fontsize=18, rotation=0)\n",
    "# save_fig(\"linear_autoencoder_pca_plot\")\n",
    "plt.show()"
   ]
  },
  {
   "cell_type": "code",
   "execution_count": 4,
   "metadata": {},
   "outputs": [
    {
     "name": "stdout",
     "output_type": "stream",
     "text": [
      "Extracting /tmp/data/train-images-idx3-ubyte.gz\n",
      "Extracting /tmp/data/train-labels-idx1-ubyte.gz\n",
      "Extracting /tmp/data/t10k-images-idx3-ubyte.gz\n",
      "Extracting /tmp/data/t10k-labels-idx1-ubyte.gz\n"
     ]
    }
   ],
   "source": [
    "from tensorflow.examples.tutorials.mnist import input_data\n",
    "mnist = input_data.read_data_sets(\"/tmp/data/\")"
   ]
  },
  {
   "cell_type": "code",
   "execution_count": 15,
   "metadata": {},
   "outputs": [],
   "source": [
    "reset_graph()\n",
    "\n",
    "from functools import partial\n",
    "\n",
    "n_inputs = 28 * 28\n",
    "n_hidden1 = 300\n",
    "n_hidden2 = 150\n",
    "n_hidden3 = n_hidden1\n",
    "n_outputs = n_inputs\n",
    "\n",
    "learning_rate = 0.01\n",
    "l2_reg = 0.0001\n",
    "\n",
    "X = tf.placeholder(tf.float32, shape = [None, n_inputs])\n",
    "\n",
    "he_init = tf.contrib.layers.variance_scaling_initializer()\n",
    "l2_regularizer = tf.contrib.layers.l2_regularizer(l2_reg)\n",
    "\n",
    "my_dense_layer = partial(tf.layers.dense, activation = tf.nn.elu, kernel_initializer = he_init, kernel_regularizer = l2_regularizer)\n",
    "\n",
    "hidden1 = my_dense_layer(X, n_hidden1)\n",
    "hidden2 = my_dense_layer(hidden1, n_hidden2)\n",
    "hidden3 = my_dense_layer(hidden2, n_hidden3)\n",
    "outputs = my_dense_layer(hidden3, n_outputs, activation = None)\n",
    "\n",
    "reconstruction_loss = tf.reduce_mean(tf.square(outputs - X))\n",
    "reg_losses = tf.get_collection(tf.GraphKeys.REGULARIZATION_LOSSES)\n",
    "loss = tf.add_n([reconstruction_loss] + reg_losses)\n",
    "\n",
    "optimizer = tf.train.AdamOptimizer(learning_rate)\n",
    "training_op = optimizer.minimize(loss)\n",
    "\n",
    "init = tf.global_variables_initializer()\n",
    "saver = tf.train.Saver()"
   ]
  },
  {
   "cell_type": "code",
   "execution_count": 18,
   "metadata": {},
   "outputs": [
    {
     "name": "stdout",
     "output_type": "stream",
     "text": [
      "0 Train MSE: 0.0239436\n",
      "1 Train MSE: 0.0135825\n",
      "2 Train MSE: 0.0113535\n",
      "3 Train MSE: 0.010715\n",
      "4 Train MSE: 0.0106614\n"
     ]
    }
   ],
   "source": [
    "n_epochs = 5\n",
    "batch_size = 150\n",
    "\n",
    "with tf.Session() as sess:\n",
    "    init.run()\n",
    "    \n",
    "    for epoch in range(n_epochs):\n",
    "        n_batches = mnist.train.num_examples // batch_size\n",
    "        for iteration in range(n_batches):\n",
    "            print(\"\\r{}%\".format(100 * iteration // n_batches), end=\"\") # not shown in the book\n",
    "            sys.stdout.flush()\n",
    "            X_batch, y_batch = mnist.train.next_batch(batch_size)\n",
    "            sess.run(training_op, feed_dict = {X: X_batch})\n",
    "        loss_train = reconstruction_loss.eval(feed_dict = {X: X_batch})\n",
    "        print(\"\\r{}\".format(epoch), \"Train MSE:\", loss_train)           # not shown\n",
    "        saver.save(sess, \"./my_model_all_layers.ckpt\")"
   ]
  },
  {
   "cell_type": "code",
   "execution_count": 35,
   "metadata": {},
   "outputs": [],
   "source": [
    "def show_reconstructed_digits(X, outputs, model_path = None, n_test_digits = 2):\n",
    "    with tf.Session() as sess:\n",
    "        if model_path:\n",
    "            saver.restore(sess, model_path)\n",
    "        X_test = mnist.test.images[:n_test_digits]\n",
    "        outputs_val = outputs.eval(feed_dict={X: X_test})\n",
    "\n",
    "    fig = plt.figure(figsize=(8, 3 * n_test_digits))\n",
    "    for digit_index in range(n_test_digits):\n",
    "        plt.subplot(n_test_digits, 2, digit_index * 2 + 1)\n",
    "        plot_image(X_test[digit_index])\n",
    "        plt.subplot(n_test_digits, 2, digit_index * 2 + 2)\n",
    "        plot_image(outputs_val[digit_index])"
   ]
  },
  {
   "cell_type": "code",
   "execution_count": 21,
   "metadata": {},
   "outputs": [
    {
     "name": "stdout",
     "output_type": "stream",
     "text": [
      "INFO:tensorflow:Restoring parameters from ./my_model_all_layers.ckpt\n"
     ]
    },
    {
     "data": {
      "image/png": "[encoded data removed]",
      "text/plain": [
       "<matplotlib.figure.Figure at 0x128f78f60>"
      ]
     },
     "metadata": {},
     "output_type": "display_data"
    }
   ],
   "source": [
    "show_reconstructed_digits(X, outputs, \"./my_model_all_layers.ckpt\")"
   ]
  },
  {
   "cell_type": "code",
   "execution_count": 27,
   "metadata": {},
   "outputs": [],
   "source": [
    "reset_graph()\n",
    "\n",
    "n_inputs = 28 * 28\n",
    "n_hidden1 = 300\n",
    "n_hidden2 = 150\n",
    "n_hidden3 = n_hidden1\n",
    "n_outputs = n_inputs\n",
    "\n",
    "learning_rate - 0.01\n",
    "l2_reg = 0.0005"
   ]
  },
  {
   "cell_type": "code",
   "execution_count": 28,
   "metadata": {},
   "outputs": [],
   "source": [
    "activation = tf.nn.elu\n",
    "regularizer = tf.contrib.layers.l2_regularizer(l2_reg)\n",
    "initializer = tf.contrib.layers.variance_scaling_initializer()\n",
    "\n",
    "X = tf.placeholder(tf.float32, shape = [None, n_inputs])\n",
    "\n",
    "weights1_init = initializer([n_inputs, n_hidden1])\n",
    "weights2_init = initializer([n_hidden1, n_hidden2])\n",
    "\n",
    "weights1 = tf.Variable(weights1_init, dtype = tf.float32, name = 'weights1')\n",
    "weights2 = tf.Variable(weights2_init, dtype = tf.float32, name = 'weights2')\n",
    "weights3 = tf.transpose(weights2, name = 'weights3')\n",
    "weights4 = tf.transpose(weights1, name = 'weights4')\n",
    "\n",
    "biases1 = tf.Variable(tf.zeros(n_hidden1), name=\"biases1\")\n",
    "biases2 = tf.Variable(tf.zeros(n_hidden2), name=\"biases2\")\n",
    "biases3 = tf.Variable(tf.zeros(n_hidden3), name=\"biases3\")\n",
    "biases4 = tf.Variable(tf.zeros(n_outputs), name=\"biases4\")\n",
    "\n",
    "hidden1 = activation(tf.matmul(X, weights1) + biases1)\n",
    "hidden2 = activation(tf.matmul(hidden1, weights2) + biases2)\n",
    "hidden3 = activation(tf.matmul(hidden2, weights3) + biases3)\n",
    "outputs = tf.matmul(hidden3, weights4) + biases4\n",
    "\n",
    "reconstruction_loss = tf.reduce_mean(tf.square(outputs - X))\n",
    "reg_loss = regularizer(weights1) + regularizer(weights2)\n",
    "loss = reconstruction_loss + reg_loss\n",
    "\n",
    "optimizer = tf.train.AdamOptimizer(learning_rate)\n",
    "training_op = optimizer.minimize(loss)\n",
    "\n",
    "init = tf.global_variables_initializer()\n",
    "saver = tf.train.Saver()"
   ]
  },
  {
   "cell_type": "code",
   "execution_count": 29,
   "metadata": {},
   "outputs": [
    {
     "name": "stdout",
     "output_type": "stream",
     "text": [
      "0 Train MSE: 0.0149852\n",
      "1 Train MSE: 0.016631\n",
      "2 Train MSE: 0.0167221\n",
      "3 Train MSE: 0.0170269\n",
      "4 Train MSE: 0.0175326\n"
     ]
    }
   ],
   "source": [
    "n_epochs = 5\n",
    "batch_size = 150\n",
    "\n",
    "with tf.Session() as sess:\n",
    "    init.run()\n",
    "    for epoch in range(n_epochs):\n",
    "        n_batches = mnist.train.num_examples // batch_size\n",
    "        for iteration in range(n_batches):\n",
    "            print(\"\\r{}%\".format(100 * iteration // n_batches), end=\"\")\n",
    "            sys.stdout.flush()\n",
    "            X_batch, y_batch = mnist.train.next_batch(batch_size)\n",
    "            sess.run(training_op, feed_dict = {X: X_batch})\n",
    "        loss_train = reconstruction_loss.eval(feed_dict = {X: X_batch})\n",
    "        print(\"\\r{}\".format(epoch), \"Train MSE:\", loss_train)\n",
    "    saver.save(sess, \"./my_model_tying_weights.ckpt\")"
   ]
  },
  {
   "cell_type": "code",
   "execution_count": 30,
   "metadata": {},
   "outputs": [
    {
     "name": "stdout",
     "output_type": "stream",
     "text": [
      "INFO:tensorflow:Restoring parameters from ./my_model_tying_weights.ckpt\n"
     ]
    },
    {
     "data": {
      "image/png": "[encoded data removed]",
      "text/plain": [
       "<matplotlib.figure.Figure at 0x10d91dac8>"
      ]
     },
     "metadata": {},
     "output_type": "display_data"
    }
   ],
   "source": [
    "show_reconstructed_digits(X, outputs, \"./my_model_tying_weights.ckpt\")"
   ]
  },
  {
   "cell_type": "code",
   "execution_count": 35,
   "metadata": {},
   "outputs": [],
   "source": [
    "reset_graph()\n",
    "\n",
    "from functools import partial\n",
    "\n",
    "def train_autoencoder(X_train, n_neurons, n_epochs, batch_size,\n",
    "                     learning_rate = 0.01, l2_reg = 0.0005, seed = 42,\n",
    "                     hidden_activation = tf.nn.elu, output_activation = tf.nn.elu):\n",
    "    \n",
    "    graph = tf.Graph()\n",
    "    \n",
    "    with graph.as_default():\n",
    "        tf.set_random_seed(seed)\n",
    "        \n",
    "        n_inputs = X_train.shape[1]\n",
    "        \n",
    "        X = tf.placeholder(tf.float32, shape = [None, n_inputs])\n",
    "        \n",
    "        my_dense_layer = partial(tf.layers.dense, \n",
    "                                kernel_initializer = tf.contrib.layers.variance_scaling_initializer(),\n",
    "                                kernel_regularizer = tf.contrib.layers.l2_regularizer(l2_reg))\n",
    "        \n",
    "        hidden = my_dense_layer(X, n_neurons, activation = hidden_activation, name = 'hidden')\n",
    "        outputs = my_dense_layer(hidden, n_inputs, activation = output_activation, name = 'outputs')\n",
    "        \n",
    "        reconstruction_loss = tf.reduce_mean(tf.square(outputs - X))\n",
    "        reg_losses = tf.get_collection(tf.GraphKeys.REGULARIZATION_LOSSES)\n",
    "        loss = tf.add_n([reconstruction_loss] + reg_losses)\n",
    "        \n",
    "        optimizer = tf.train.AdamOptimizer(learning_rate)\n",
    "        training_op = optimizer.minimize(loss)\n",
    "        \n",
    "        init = tf.global_variables_initializer()\n",
    "        \n",
    "    with tf.Session(graph = graph) as sess:\n",
    "        init.run()\n",
    "        \n",
    "        for epoch in range(n_epochs):\n",
    "            n_batches = len(X_train) // batch_size\n",
    "            for iteration in range(n_batches):\n",
    "                print(\"\\r{}%\".format(100 * iteration // n_batches), end=\"\")\n",
    "                sys.stdout.flush()\n",
    "                indices = rnd.permutation(len(X_train))[:batch_size]\n",
    "                X_batch = X_train[indices]\n",
    "                sess.run(training_op, feed_dict = {X: X_batch})\n",
    "            loss_train = reconstruction_loss.eval(feed_dict = {X: X_batch})\n",
    "            print(\"\\r{}\".format(epoch), \"Train MSE:\", loss_train)\n",
    "        \n",
    "        params = dict([(var.name, var.eval()) for var in tf.get_collection(tf.GraphKeys.TRAINABLE_VARIABLES)])\n",
    "        hidden_val = hidden.eval(feed_dict = {X: X_train})\n",
    "        return hidden_val, params['hidden/kernel:0'], params['hidden/bias:0'], params['outputs/kernel:0'], params['outputs/bias:0']"
   ]
  },
  {
   "cell_type": "code",
   "execution_count": 36,
   "metadata": {},
   "outputs": [
    {
     "name": "stdout",
     "output_type": "stream",
     "text": [
      "0 Train MSE: 0.0187817\n",
      "1 Train MSE: 0.0189252\n",
      "2 Train MSE: 0.0184519\n",
      "3 Train MSE: 0.0191518\n",
      "0 Train MSE: 0.00453404\n",
      "1 Train MSE: 0.00435748\n",
      "2 Train MSE: 0.00435223\n",
      "3 Train MSE: 0.00471972\n"
     ]
    }
   ],
   "source": [
    "hidden_output, W1, b1, W4, b4 = train_autoencoder(mnist.train.images, n_neurons = 300, n_epochs = 4, batch_size = 150, output_activation = None)\n",
    "_, W2, b2, W3, b3 = train_autoencoder(hidden_output, n_neurons = 150, n_epochs = 4, batch_size = 150)"
   ]
  },
  {
   "cell_type": "code",
   "execution_count": 37,
   "metadata": {},
   "outputs": [],
   "source": [
    "reset_graph()\n",
    "\n",
    "n_inputs = 28 * 28\n",
    "\n",
    "X = tf.placeholder(tf.float32, shape = [None, n_inputs])\n",
    "hidden1 = tf.nn.elu(tf.matmul(X, W1) + b1)\n",
    "hidden2 = tf.nn.elu(tf.matmul(hidden1, W2) + b2)\n",
    "hidden3 = tf.nn.elu(tf.matmul(hidden2, W3) + b3)\n",
    "outputs = tf.matmul(hidden3, W4) + b4"
   ]
  },
  {
   "cell_type": "code",
   "execution_count": 38,
   "metadata": {},
   "outputs": [
    {
     "data": {
      "image/png": "[encoded data removed]",
      "text/plain": [
       "<matplotlib.figure.Figure at 0x1164cfe48>"
      ]
     },
     "metadata": {},
     "output_type": "display_data"
    }
   ],
   "source": [
    "show_reconstructed_digits(X, outputs)"
   ]
  },
  {
   "cell_type": "code",
   "execution_count": 13,
   "metadata": {},
   "outputs": [],
   "source": [
    "reset_graph()\n",
    "\n",
    "n_inputs = 28 * 28\n",
    "n_hidden1 = 300\n",
    "n_hidden2 = 150\n",
    "n_hidden3 = n_hidden1\n",
    "n_outputs = n_inputs\n",
    "\n",
    "learning_rate = 0.01\n",
    "l2_reg = 0.0001\n",
    "\n",
    "activation = tf.nn.elu\n",
    "regularizer = tf.contrib.layers.l2_regularizer(l2_reg)\n",
    "initializer = tf.contrib.layers.variance_scaling_initializer()\n",
    "\n",
    "X = tf.placeholder(tf.float32, shape = [None, n_inputs])\n",
    "\n",
    "weights1_init = initializer([n_inputs, n_hidden1])\n",
    "weights2_init = initializer([n_hidden1, n_hidden2])\n",
    "weights3_init = initializer([n_hidden2, n_hidden3])\n",
    "weights4_init = initializer([n_hidden3, n_outputs])\n",
    "\n",
    "weights1 = tf.Variable(weights1_init, dtype = tf.float32, name = 'weights1')\n",
    "weights2 = tf.Variable(weights2_init, dtype=tf.float32, name=\"weights2\")\n",
    "weights3 = tf.Variable(weights3_init, dtype=tf.float32, name=\"weights3\")\n",
    "weights4 = tf.Variable(weights4_init, dtype=tf.float32, name=\"weights4\")\n",
    "\n",
    "biases1 = tf.Variable(tf.zeros(n_hidden1), name=\"biases1\")\n",
    "biases2 = tf.Variable(tf.zeros(n_hidden2), name=\"biases2\")\n",
    "biases3 = tf.Variable(tf.zeros(n_hidden3), name=\"biases3\")\n",
    "biases4 = tf.Variable(tf.zeros(n_outputs), name=\"biases4\")\n",
    "\n",
    "hidden1 = activation(tf.matmul(X, weights1) + biases1)\n",
    "hidden2 = activation(tf.matmul(hidden1, weights2) + biases2)\n",
    "hidden3 = activation(tf.matmul(hidden2, weights3) + biases3)\n",
    "outputs = tf.matmul(hidden3, weights4) + biases4\n",
    "\n",
    "reconstruction_loss = tf.reduce_mean(tf.square(outputs - X))"
   ]
  },
  {
   "cell_type": "code",
   "execution_count": 14,
   "metadata": {},
   "outputs": [],
   "source": [
    "optimizer = tf.train.AdamOptimizer(learning_rate)\n",
    "\n",
    "with tf.name_scope('phase1'):\n",
    "    phase1_outputs = tf.matmul(hidden1, weights4) + biases4\n",
    "    phase1_reconstruction_loss = tf.reduce_mean(tf.square(phase1_outputs - X))\n",
    "    phase1_reg_loss = regularizer(weights1) + regularizer(weights4)\n",
    "    phase1_loss = phase1_reconstruction_loss + phase1_reg_loss\n",
    "    phase1_training_op = optimizer.minimize(phase1_loss)\n",
    "    \n",
    "with tf.name_scope('phase2'):\n",
    "    phase2_reconstruction_loss = tf.reduce_mean(tf.square(hidden3 - hidden1))\n",
    "    phase2_reg_loss = regularizer(weights2) + regularizer(weights3)\n",
    "    phase2_loss = phase2_reconstruction_loss + phase2_reg_loss\n",
    "    train_vars = [weights2, biases2, weights3, biases3]\n",
    "    phase2_training_op = optimizer.minimize(phase2_loss, var_list = train_vars)"
   ]
  },
  {
   "cell_type": "code",
   "execution_count": 15,
   "metadata": {},
   "outputs": [],
   "source": [
    "init = tf.global_variables_initializer()\n",
    "saver = tf.train.Saver()"
   ]
  },
  {
   "cell_type": "code",
   "execution_count": 16,
   "metadata": {},
   "outputs": [
    {
     "name": "stdout",
     "output_type": "stream",
     "text": [
      "Training phase #1\n",
      "0 Train MSE: 0.00724282\n",
      "1 Train MSE: 0.00738609\n",
      "2 Train MSE: 0.00773449\n",
      "3 Train MSE: 0.00759495\n",
      "Training phase #2\n",
      "0 Train MSE: 0.0651568\n",
      "1 Train MSE: 0.00364083\n",
      "2 Train MSE: 0.00210733\n",
      "3 Train MSE: 0.00196345\n",
      "Test MSE: 0.00972192\n"
     ]
    }
   ],
   "source": [
    "training_ops = [phase1_training_op, phase2_training_op]\n",
    "reconstruction_losses = [phase1_reconstruction_loss, phase2_reconstruction_loss]\n",
    "n_epochs = [4, 4]\n",
    "batch_sizes = [150, 150]\n",
    "\n",
    "with tf.Session() as sess:\n",
    "    init.run()\n",
    "    for phase in range(2):\n",
    "        print(\"Training phase #{}\".format(phase + 1))\n",
    "        for epoch in range(n_epochs[phase]):\n",
    "            n_batches = mnist.train.num_examples // batch_sizes[phase]\n",
    "            for iteration in range(n_batches):\n",
    "                print(\"\\r{}%\".format(100 * iteration // n_batches), end=\"\")\n",
    "                sys.stdout.flush()\n",
    "                X_batch, y_batch = mnist.train.next_batch(batch_sizes[phase])\n",
    "                sess.run(training_ops[phase], feed_dict={X: X_batch})\n",
    "            loss_train = reconstruction_losses[phase].eval(feed_dict={X: X_batch})\n",
    "            print(\"\\r{}\".format(epoch), \"Train MSE:\", loss_train)\n",
    "            saver.save(sess, \"./my_model_one_at_a_time.ckpt\")\n",
    "    loss_test = reconstruction_loss.eval(feed_dict={X: mnist.test.images})\n",
    "    print(\"Test MSE:\", loss_test)"
   ]
  },
  {
   "cell_type": "code",
   "execution_count": 17,
   "metadata": {},
   "outputs": [
    {
     "name": "stdout",
     "output_type": "stream",
     "text": [
      "Training phase #1\n",
      "0 Train MSE: 0.00786177\n",
      "1 Train MSE: 0.00747097\n",
      "2 Train MSE: 0.00753604\n",
      "3 Train MSE: 0.00817973\n",
      "Training phase #2\n",
      "0 Train MSE: 0.244793\n",
      "1 Train MSE: 0.00504502\n",
      "2 Train MSE: 0.00238695\n",
      "3 Train MSE: 0.00201499\n",
      "Test MSE: 0.00972227\n"
     ]
    }
   ],
   "source": [
    "training_ops = [phase1_training_op, phase2_training_op]\n",
    "reconstruction_losses = [phase1_reconstruction_loss, phase2_reconstruction_loss]\n",
    "n_epochs = [4, 4]\n",
    "batch_sizes = [150, 150]\n",
    "\n",
    "with tf.Session() as sess:\n",
    "    init.run()\n",
    "    \n",
    "    for phase in range(2):\n",
    "        print('Training phase #{}'.format(phase + 1))\n",
    "        if phase == 1:\n",
    "            hidden1_cache = hidden1.eval(feed_dict = {X: mnist.train.images})\n",
    "        \n",
    "        for epoch in range(n_epochs[phase]):\n",
    "            n_batches = mnist.train.num_examples // batch_sizes[phase]\n",
    "            for iteration in range(n_batches):\n",
    "                print(\"\\r{}%\".format(100 * iteration // n_batches), end=\"\")\n",
    "                sys.stdout.flush()\n",
    "                \n",
    "                if phase == 1:\n",
    "                    indices = rnd.permutation(mnist.train.num_examples)\n",
    "                    hidden1_batch = hidden1_cache[indices[:batch_sizes[phase]]]\n",
    "                    feed_dict = {hidden1: hidden1_batch}\n",
    "                    sess.run(training_ops[phase], feed_dict = feed_dict)\n",
    "                else:\n",
    "                    X_batch, y_batch = mnist.train.next_batch(batch_sizes[phase])\n",
    "                    feed_dict = {X: X_batch}\n",
    "                    sess.run(training_ops[phase], feed_dict = feed_dict)\n",
    "            \n",
    "            loss_train = reconstruction_losses[phase].eval(feed_dict = feed_dict)\n",
    "            print(\"\\r{}\".format(epoch), \"Train MSE:\", loss_train)\n",
    "            saver.save(sess, \"./my_model_cache_frozen.ckpt\")\n",
    "    loss_test = reconstruction_loss.eval(feed_dict={X: mnist.test.images})\n",
    "    print(\"Test MSE:\", loss_test)"
   ]
  },
  {
   "cell_type": "code",
   "execution_count": 54,
   "metadata": {},
   "outputs": [
    {
     "name": "stdout",
     "output_type": "stream",
     "text": [
      "INFO:tensorflow:Restoring parameters from ./my_model_one_at_a_time.ckpt\n"
     ]
    },
    {
     "data": {
      "image/png": "[encoded data removed]",
      "text/plain": [
       "<matplotlib.figure.Figure at 0x1296d5c88>"
      ]
     },
     "metadata": {},
     "output_type": "display_data"
    }
   ],
   "source": [
    "n_test_digits = 2\n",
    "X_test = mnist.test.images[:n_test_digits]\n",
    "\n",
    "with tf.Session() as sess:\n",
    "    saver.restore(sess, './my_model_one_at_a_time.ckpt')\n",
    "    outputs_val = outputs.eval(feed_dict = {X: X_test})\n",
    "    \n",
    "def plot_image(image, shape=[28, 28]):\n",
    "    plt.imshow(image.reshape(shape), cmap=\"Greys\", interpolation=\"nearest\")\n",
    "    plt.axis(\"off\")\n",
    "\n",
    "for digit_index in range(n_test_digits):\n",
    "    plt.subplot(n_test_digits, 2, digit_index * 2 + 1)\n",
    "    plot_image(X_test[digit_index])\n",
    "    plt.subplot(n_test_digits, 2, digit_index * 2 + 2)\n",
    "    plot_image(outputs_val[digit_index])"
   ]
  },
  {
   "cell_type": "code",
   "execution_count": 55,
   "metadata": {},
   "outputs": [
    {
     "name": "stdout",
     "output_type": "stream",
     "text": [
      "INFO:tensorflow:Restoring parameters from ./my_model_one_at_a_time.ckpt\n"
     ]
    },
    {
     "data": {
      "image/png": "[encoded data removed]",
      "text/plain": [
       "<matplotlib.figure.Figure at 0x128a04400>"
      ]
     },
     "metadata": {},
     "output_type": "display_data"
    }
   ],
   "source": [
    "with tf.Session() as sess:\n",
    "    saver.restore(sess, './my_model_one_at_a_time.ckpt')\n",
    "    weights1_val = weights1.eval()\n",
    "    \n",
    "for i in range(5):\n",
    "    plt.subplot(1, 5, i + 1)\n",
    "    plot_image(weights1_val.T[i])\n",
    "    \n",
    "plt.show()"
   ]
  },
  {
   "cell_type": "code",
   "execution_count": 21,
   "metadata": {},
   "outputs": [],
   "source": [
    "reset_graph()\n",
    "\n",
    "n_inputs = 28 * 28\n",
    "n_hidden1 = 300\n",
    "n_hidden2 = 150\n",
    "n_outputs = 10\n",
    "\n",
    "learning_rate = 0.01\n",
    "l2_reg = 0.0005\n",
    "\n",
    "activation = tf.nn.elu\n",
    "regularizer = tf.contrib.layers.l2_regularizer(l2_reg)\n",
    "initializer = tf.contrib.layers.variance_scaling_initializer()\n",
    "\n",
    "X = tf.placeholder(tf.float32, shape = [None, n_inputs])\n",
    "y = tf.placeholder(tf.int32, shape = [None])\n",
    "\n",
    "weights1_init = initializer([n_inputs, n_hidden1])\n",
    "weights2_init = initializer([n_hidden1, n_hidden2])\n",
    "weights3_init = initializer([n_hidden2, n_outputs])\n",
    "\n",
    "weights1 = tf.Variable(weights1_init, dtype=tf.float32, name=\"weights1\")\n",
    "weights2 = tf.Variable(weights2_init, dtype=tf.float32, name=\"weights2\")\n",
    "weights3 = tf.Variable(weights3_init, dtype=tf.float32, name=\"weights3\")\n",
    "\n",
    "biases1 = tf.Variable(tf.zeros(n_hidden1), name=\"biases1\")\n",
    "biases2 = tf.Variable(tf.zeros(n_hidden2), name=\"biases2\")\n",
    "biases3 = tf.Variable(tf.zeros(n_outputs), name=\"biases3\")\n",
    "\n",
    "hidden1 = activation(tf.matmul(X, weights1) + biases1)\n",
    "hidden2 = activation(tf.matmul(hidden1, weights2) + biases2)\n",
    "logits = tf.matmul(hidden2, weights3) + biases3\n",
    "\n",
    "cross_entropy = tf.nn.sparse_softmax_cross_entropy_with_logits(labels = y, logits = logits)\n",
    "reg_loss = regularizer(weights1) + regularizer(weights2) + regularizer(weights3)\n",
    "loss = cross_entropy + reg_loss\n",
    "\n",
    "optimizer = tf.train.AdamOptimizer(learning_rate)\n",
    "training_op = optimizer.minimize(loss)\n",
    "\n",
    "correct = tf.nn.in_top_k(logits, y, 1)\n",
    "accuracy = tf.reduce_mean(tf.cast(correct, tf.float32))\n",
    "\n",
    "init = tf.global_variables_initializer()\n",
    "pretrain_saver = tf.train.Saver([weights1, weights2, biases1, biases2])\n",
    "saver = tf.train.Saver()"
   ]
  },
  {
   "cell_type": "code",
   "execution_count": 22,
   "metadata": {},
   "outputs": [
    {
     "name": "stdout",
     "output_type": "stream",
     "text": [
      "0 Train accuracy: 0.94 Test accuracy: 0.9277\n",
      "1 Train accuracy: 0.973333 Test accuracy: 0.9414\n",
      "2 Train accuracy: 0.973333 Test accuracy: 0.9476\n",
      "3 Train accuracy: 0.953333 Test accuracy: 0.9358\n"
     ]
    }
   ],
   "source": [
    "n_epochs = 4\n",
    "batch_size = 150\n",
    "n_labeled_instances = 20000\n",
    "\n",
    "with tf.Session() as sess:\n",
    "    init.run()\n",
    "    \n",
    "    for epoch in range(n_epochs):\n",
    "        n_batches = n_labeled_instances // batch_size\n",
    "        for iteration in range(n_batches):\n",
    "            print(\"\\r{}%\".format(100 * iteration // n_batches), end=\"\")\n",
    "            sys.stdout.flush()\n",
    "            indices = rnd.permutation(n_labeled_instances)[:batch_size]\n",
    "            X_batch, y_batch = mnist.train.images[indices], mnist.train.labels[indices]\n",
    "            sess.run(training_op, feed_dict = {X: X_batch, y: y_batch})\n",
    "        accuracy_val = accuracy.eval(feed_dict={X: X_batch, y: y_batch})\n",
    "        print(\"\\r{}\".format(epoch), \"Train accuracy:\", accuracy_val, end=\" \")\n",
    "        saver.save(sess, \"./my_model_supervised.ckpt\")\n",
    "        accuracy_val = accuracy.eval(feed_dict={X: mnist.test.images, y: mnist.test.labels})\n",
    "        print(\"Test accuracy:\", accuracy_val)"
   ]
  },
  {
   "cell_type": "code",
   "execution_count": 24,
   "metadata": {},
   "outputs": [
    {
     "name": "stdout",
     "output_type": "stream",
     "text": [
      "INFO:tensorflow:Restoring parameters from ./my_model_cache_frozen.ckpt\n",
      "0 Train accuracy: 0.88\tTest accuracy: 0.8912\n",
      "1 Train accuracy: 0.906667\tTest accuracy: 0.9037\n",
      "2 Train accuracy: 0.893333\tTest accuracy: 0.9063\n",
      "3 Train accuracy: 0.9\tTest accuracy: 0.9077\n"
     ]
    }
   ],
   "source": [
    "n_epochs = 4\n",
    "batch_size = 150\n",
    "n_labeled_instances = 20000\n",
    "\n",
    "training_op = optimizer.minimize(loss, var_list = [weights3, biases3])\n",
    "with tf.Session() as sess:\n",
    "    init.run()\n",
    "    pretrain_saver.restore(sess, \"./my_model_cache_frozen.ckpt\")\n",
    "    for epoch in range(n_epochs):\n",
    "        n_batches = n_labeled_instances // batch_size\n",
    "        for iteration in range(n_batches):\n",
    "            print(\"\\r{}%\".format(100 * iteration // n_batches), end=\"\")\n",
    "            sys.stdout.flush()\n",
    "            indices = rnd.permutation(n_labeled_instances)[:batch_size]\n",
    "            X_batch, y_batch = mnist.train.images[indices], mnist.train.labels[indices]\n",
    "            sess.run(training_op, feed_dict={X: X_batch, y: y_batch})\n",
    "        accuracy_val = accuracy.eval(feed_dict={X: X_batch, y: y_batch})\n",
    "        print(\"\\r{}\".format(epoch), \"Train accuracy:\", accuracy_val, end=\"\\t\")\n",
    "        saver.save(sess, \"./my_model_supervised_pretrained.ckpt\")\n",
    "        accuracy_val = accuracy.eval(feed_dict={X: mnist.test.images, y: mnist.test.labels})\n",
    "        print(\"Test accuracy:\", accuracy_val)"
   ]
  },
  {
   "cell_type": "code",
   "execution_count": 25,
   "metadata": {},
   "outputs": [],
   "source": [
    "reset_graph()\n",
    "\n",
    "n_inputs = 28 * 28\n",
    "n_hidden1 = 300\n",
    "n_hidden2 = 150\n",
    "n_hidden3 = n_hidden1\n",
    "n_outputs = n_inputs\n",
    "\n",
    "learning_rate = 0.01"
   ]
  },
  {
   "cell_type": "code",
   "execution_count": 26,
   "metadata": {},
   "outputs": [],
   "source": [
    "noise_level = 1.0\n",
    "\n",
    "X = tf.placeholder(tf.float32, shape = [None, n_inputs])\n",
    "X_noisy = X + noise_level * tf.random_normal(tf.shape(X))\n",
    "\n",
    "hidden1 = tf.layers.dense(X_noisy, n_hidden1, activation = tf.nn.relu, name = 'hidden1')\n",
    "hidden2 = tf.layers.dense(hidden1, n_hidden2, activation = tf.nn.relu, name = 'hidden2')\n",
    "hidden3 = tf.layers.dense(hidden2, n_hidden3, activation = tf.nn.relu, name = 'hidden3')\n",
    "outputs = tf.layers.dense(hidden3, n_outputs, name = 'outputs')\n",
    "\n",
    "reconstruction_loss = tf.reduce_mean(tf.square(outputs - X))"
   ]
  },
  {
   "cell_type": "code",
   "execution_count": 27,
   "metadata": {},
   "outputs": [],
   "source": [
    "optimizer = tf.train.AdamOptimizer(learning_rate)\n",
    "training_op = optimizer.minimize(reconstruction_loss)\n",
    "\n",
    "init = tf.global_variables_initializer()\n",
    "saver = tf.train.Saver()"
   ]
  },
  {
   "cell_type": "code",
   "execution_count": 29,
   "metadata": {},
   "outputs": [
    {
     "name": "stdout",
     "output_type": "stream",
     "text": [
      "0 Train MSE: 0.0429974\n",
      "1 Train MSE: 0.041219\n",
      "2 Train MSE: 0.0402572\n",
      "3 Train MSE: 0.0417971\n",
      "4 Train MSE: 0.0397513\n",
      "5 Train MSE: 0.0380395\n",
      "6 Train MSE: 0.038649\n",
      "7 Train MSE: 0.0399524\n",
      "8 Train MSE: 0.0382306\n",
      "9 Train MSE: 0.0391671\n"
     ]
    }
   ],
   "source": [
    "n_epochs = 10\n",
    "batch_size = 150\n",
    "\n",
    "with tf.Session() as sess:\n",
    "    init.run()\n",
    "    \n",
    "    for epoch in range(n_epochs):\n",
    "        n_batches = mnist.train.num_examples // batch_size\n",
    "        for iteration in range(n_batches):\n",
    "            print(\"\\r{}%\".format(100 * iteration // n_batches), end=\"\")\n",
    "            sys.stdout.flush()\n",
    "            \n",
    "            X_batch, y_batch = mnist.train.next_batch(batch_size)\n",
    "            sess.run(training_op, feed_dict = {X: X_batch})\n",
    "        \n",
    "        loss_train = reconstruction_loss.eval(feed_dict = {X: X_batch})\n",
    "        print(\"\\r{}\".format(epoch), \"Train MSE:\", loss_train)\n",
    "        saver.save(sess, \"./my_model_stacked_denoising_gaussian.ckpt\")"
   ]
  },
  {
   "cell_type": "code",
   "execution_count": 30,
   "metadata": {},
   "outputs": [],
   "source": [
    "reset_graph()\n",
    "\n",
    "n_inputs = 28 * 28\n",
    "n_hidden1 = 300\n",
    "n_hidden2 = 150\n",
    "n_hidden3 = n_hidden1\n",
    "n_outputs = n_inputs\n",
    "\n",
    "learning_rate = 0.01\n",
    "dropout_rate = 0.3"
   ]
  },
  {
   "cell_type": "code",
   "execution_count": 31,
   "metadata": {},
   "outputs": [],
   "source": [
    "training = tf.placeholder_with_default(False, shape = (), name = 'training')\n",
    "X = tf.placeholder(tf.float32, shape = [None, n_inputs])\n",
    "X_drop = tf.layers.dropout(X, dropout_rate, training = training)\n",
    "\n",
    "hidden1 = tf.layers.dense(X_drop, n_hidden1, activation = tf.nn.relu, name = 'hidden1')\n",
    "hidden2 = tf.layers.dense(hidden1, n_hidden2, activation = tf.nn.relu, name = 'hidden2')\n",
    "hidden3 = tf.layers.dense(hidden2, n_hidden3, activation = tf.nn.relu, name = 'hidden3')\n",
    "outputs = tf.layers.dense(hidden3, n_outputs, name = 'outputs')\n",
    "\n",
    "reconstruction_loss = tf.reduce_mean(tf.square(outputs - X))"
   ]
  },
  {
   "cell_type": "code",
   "execution_count": 32,
   "metadata": {},
   "outputs": [],
   "source": [
    "optimizer = tf.train.AdamOptimizer(learning_rate)\n",
    "training_op = optimizer.minimize(reconstruction_loss)\n",
    "\n",
    "init = tf.global_variables_initializer()\n",
    "saver = tf.train.Saver()"
   ]
  },
  {
   "cell_type": "code",
   "execution_count": 33,
   "metadata": {},
   "outputs": [
    {
     "name": "stdout",
     "output_type": "stream",
     "text": [
      "0 Train MSE: 0.0327855\n",
      "1 Train MSE: 0.0295628\n",
      "2 Train MSE: 0.0297705\n",
      "3 Train MSE: 0.0294925\n",
      "4 Train MSE: 0.0264262\n",
      "5 Train MSE: 0.0266816\n",
      "6 Train MSE: 0.0258454\n",
      "7 Train MSE: 0.0263706\n",
      "8 Train MSE: 0.0272122\n",
      "9 Train MSE: 0.0252464\n"
     ]
    }
   ],
   "source": [
    "with tf.Session() as sess:\n",
    "    init.run()\n",
    "    \n",
    "    for epoch in range(n_epochs):\n",
    "        n_batches = mnist.train.num_examples // batch_size\n",
    "        for iteration in range(n_batches):\n",
    "            print(\"\\r{}%\".format(100 * iteration // n_batches), end=\"\")\n",
    "            sys.stdout.flush()\n",
    "            \n",
    "            X_batch, y_batch = mnist.train.next_batch(batch_size)\n",
    "            sess.run(training_op, feed_dict = {X: X_batch, training: True})\n",
    "        \n",
    "        loss_train = reconstruction_loss.eval(feed_dict = {X: X_batch})\n",
    "        print(\"\\r{}\".format(epoch), \"Train MSE:\", loss_train)\n",
    "        saver.save(sess, \"./my_model_stacked_denoising_dropout.ckpt\")"
   ]
  },
  {
   "cell_type": "code",
   "execution_count": 36,
   "metadata": {},
   "outputs": [
    {
     "name": "stdout",
     "output_type": "stream",
     "text": [
      "INFO:tensorflow:Restoring parameters from ./my_model_stacked_denoising_dropout.ckpt\n"
     ]
    },
    {
     "data": {
      "image/png": "[encoded data removed]",
      "text/plain": [
       "<matplotlib.figure.Figure at 0x10cd0ca90>"
      ]
     },
     "metadata": {},
     "output_type": "display_data"
    }
   ],
   "source": [
    "show_reconstructed_digits(X, outputs, \"./my_model_stacked_denoising_dropout.ckpt\")"
   ]
  },
  {
   "cell_type": "code",
   "execution_count": 37,
   "metadata": {},
   "outputs": [],
   "source": [
    "reset_graph()\n",
    "\n",
    "n_inputs = 28 * 28\n",
    "n_hidden1 = 1000\n",
    "n_outputs = n_inputs"
   ]
  },
  {
   "cell_type": "code",
   "execution_count": 38,
   "metadata": {},
   "outputs": [],
   "source": [
    "def kl_divergence(p, q):\n",
    "    return p * tf.log(p / q) + (1 - p) * tf.log((1 - p) / (1 - q))"
   ]
  },
  {
   "cell_type": "code",
   "execution_count": 39,
   "metadata": {},
   "outputs": [],
   "source": [
    "learning_rate = 0.01\n",
    "sparsity_target = 0.1\n",
    "sparsity_weight = 0.2\n",
    "\n",
    "X = tf.placeholder(tf.float32, shape = [None, n_inputs])\n",
    "\n",
    "hidden1 = tf.layers.dense(X, n_hidden1, activation = tf.nn.sigmoid)\n",
    "outputs = tf.layers.dense(hidden1, n_outputs)\n",
    "\n",
    "hidden1_mean = tf.reduce_mean(hidden1, axis = 0)\n",
    "sparsity_loss = tf.reduce_sum(kl_divergence(sparsity_target, hidden1_mean))\n",
    "reconstruction_loss = tf.reduce_mean(tf.square(outputs - X))\n",
    "loss = reconstruction_loss + sparsity_weight * sparsity_loss\n",
    "\n",
    "optimizer = tf.train.AdamOptimizer(learning_rate)\n",
    "training_op = optimizer.minimize(loss)"
   ]
  },
  {
   "cell_type": "code",
   "execution_count": 40,
   "metadata": {},
   "outputs": [],
   "source": [
    "init = tf.global_variables_initializer()\n",
    "saver = tf.train.Saver()"
   ]
  },
  {
   "cell_type": "code",
   "execution_count": 42,
   "metadata": {},
   "outputs": [
    {
     "name": "stdout",
     "output_type": "stream",
     "text": [
      "0 Train MSE: 0.151202 \tSparsity loss: 0.150313 \tTotal loss: 0.181265\n",
      "1 Train MSE: 0.0591974 \tSparsity loss: 0.0435757 \tTotal loss: 0.0679126\n",
      "2 Train MSE: 0.0524132 \tSparsity loss: 0.0551873 \tTotal loss: 0.0634506\n",
      "3 Train MSE: 0.0472826 \tSparsity loss: 0.0397717 \tTotal loss: 0.0552369\n",
      "4 Train MSE: 0.0436415 \tSparsity loss: 0.212023 \tTotal loss: 0.086046\n",
      "5 Train MSE: 0.042148 \tSparsity loss: 0.0309223 \tTotal loss: 0.0483325\n",
      "6 Train MSE: 0.0388594 \tSparsity loss: 0.21304 \tTotal loss: 0.0814675\n",
      "7 Train MSE: 0.0370988 \tSparsity loss: 0.0231595 \tTotal loss: 0.0417307\n",
      "8 Train MSE: 0.0332908 \tSparsity loss: 0.106432 \tTotal loss: 0.0545773\n",
      "9 Train MSE: 0.0300278 \tSparsity loss: 0.0247502 \tTotal loss: 0.0349779\n",
      "10 Train MSE: 0.0269389 \tSparsity loss: 0.0547948 \tTotal loss: 0.0378979\n",
      "11 Train MSE: 0.026121 \tSparsity loss: 0.225804 \tTotal loss: 0.0712819\n",
      "12 Train MSE: 0.0239065 \tSparsity loss: 0.0252015 \tTotal loss: 0.0289468\n",
      "13 Train MSE: 0.022921 \tSparsity loss: 0.0478516 \tTotal loss: 0.0324913\n",
      "14 Train MSE: 0.0220968 \tSparsity loss: 0.114466 \tTotal loss: 0.0449899\n",
      "15 Train MSE: 0.0200243 \tSparsity loss: 0.0749769 \tTotal loss: 0.0350197\n",
      "16 Train MSE: 0.0191817 \tSparsity loss: 0.0867882 \tTotal loss: 0.0365394\n",
      "17 Train MSE: 0.0178671 \tSparsity loss: 0.172738 \tTotal loss: 0.0524146\n",
      "18 Train MSE: 0.0184021 \tSparsity loss: 0.441913 \tTotal loss: 0.106785\n",
      "19 Train MSE: 0.0169016 \tSparsity loss: 0.0876944 \tTotal loss: 0.0344405\n",
      "20 Train MSE: 0.0168731 \tSparsity loss: 0.243233 \tTotal loss: 0.0655196\n",
      "21 Train MSE: 0.0163025 \tSparsity loss: 0.166489 \tTotal loss: 0.0496003\n",
      "22 Train MSE: 0.0164149 \tSparsity loss: 0.244999 \tTotal loss: 0.0654147\n",
      "23 Train MSE: 0.015629 \tSparsity loss: 0.058501 \tTotal loss: 0.0273292\n",
      "24 Train MSE: 0.0148176 \tSparsity loss: 0.0531866 \tTotal loss: 0.0254549\n",
      "25 Train MSE: 0.0145096 \tSparsity loss: 0.0524013 \tTotal loss: 0.0249898\n",
      "26 Train MSE: 0.0144073 \tSparsity loss: 0.0733577 \tTotal loss: 0.0290788\n",
      "27 Train MSE: 0.0147666 \tSparsity loss: 0.0475944 \tTotal loss: 0.0242855\n",
      "28 Train MSE: 0.0139585 \tSparsity loss: 0.200727 \tTotal loss: 0.0541038\n",
      "29 Train MSE: 0.0135919 \tSparsity loss: 0.0811666 \tTotal loss: 0.0298252\n",
      "30 Train MSE: 0.0137506 \tSparsity loss: 0.178249 \tTotal loss: 0.0494005\n",
      "31 Train MSE: 0.0147632 \tSparsity loss: 0.127385 \tTotal loss: 0.0402402\n",
      "32 Train MSE: 0.014871 \tSparsity loss: 0.186062 \tTotal loss: 0.0520833\n",
      "33 Train MSE: 0.0132103 \tSparsity loss: 0.086081 \tTotal loss: 0.0304265\n",
      "34 Train MSE: 0.0134139 \tSparsity loss: 0.12772 \tTotal loss: 0.0389579\n",
      "35 Train MSE: 0.0127452 \tSparsity loss: 0.0812176 \tTotal loss: 0.0289887\n",
      "36 Train MSE: 0.0131655 \tSparsity loss: 0.0756474 \tTotal loss: 0.028295\n",
      "37 Train MSE: 0.0131903 \tSparsity loss: 0.0838088 \tTotal loss: 0.029952\n",
      "38 Train MSE: 0.0131981 \tSparsity loss: 0.134628 \tTotal loss: 0.0401237\n",
      "39 Train MSE: 0.0138993 \tSparsity loss: 0.345906 \tTotal loss: 0.0830804\n",
      "40 Train MSE: 0.0139196 \tSparsity loss: 0.173845 \tTotal loss: 0.0486886\n",
      "41 Train MSE: 0.0126874 \tSparsity loss: 0.203922 \tTotal loss: 0.0534717\n",
      "42 Train MSE: 0.0127377 \tSparsity loss: 0.167509 \tTotal loss: 0.0462395\n",
      "43 Train MSE: 0.0131436 \tSparsity loss: 0.265478 \tTotal loss: 0.0662392\n",
      "44 Train MSE: 0.0120521 \tSparsity loss: 0.142296 \tTotal loss: 0.0405113\n",
      "45 Train MSE: 0.0119978 \tSparsity loss: 0.0923019 \tTotal loss: 0.0304582\n",
      "46 Train MSE: 0.0117925 \tSparsity loss: 0.0862699 \tTotal loss: 0.0290465\n",
      "47 Train MSE: 0.0126429 \tSparsity loss: 0.347555 \tTotal loss: 0.0821539\n",
      "48 Train MSE: 0.0121285 \tSparsity loss: 0.122289 \tTotal loss: 0.0365864\n",
      "49 Train MSE: 0.0117851 \tSparsity loss: 0.0740038 \tTotal loss: 0.0265858\n",
      "50 Train MSE: 0.0114412 \tSparsity loss: 0.149182 \tTotal loss: 0.0412775\n",
      "51 Train MSE: 0.0117798 \tSparsity loss: 0.313676 \tTotal loss: 0.074515\n",
      "52 Train MSE: 0.0123472 \tSparsity loss: 0.354411 \tTotal loss: 0.0832294\n",
      "53 Train MSE: 0.0113837 \tSparsity loss: 0.20532 \tTotal loss: 0.0524477\n",
      "54 Train MSE: 0.011309 \tSparsity loss: 0.143021 \tTotal loss: 0.0399133\n",
      "55 Train MSE: 0.0111767 \tSparsity loss: 0.152271 \tTotal loss: 0.0416308\n",
      "56 Train MSE: 0.0128615 \tSparsity loss: 0.281919 \tTotal loss: 0.0692453\n",
      "57 Train MSE: 0.0122353 \tSparsity loss: 0.51838 \tTotal loss: 0.115911\n",
      "58 Train MSE: 0.0150536 \tSparsity loss: 0.179929 \tTotal loss: 0.0510394\n",
      "59 Train MSE: 0.0181942 \tSparsity loss: 0.23159 \tTotal loss: 0.0645122\n",
      "60 Train MSE: 0.0160068 \tSparsity loss: 0.225817 \tTotal loss: 0.0611701\n",
      "61 Train MSE: 0.017956 \tSparsity loss: 0.477829 \tTotal loss: 0.113522\n",
      "62 Train MSE: 0.0207138 \tSparsity loss: 0.808486 \tTotal loss: 0.182411\n",
      "63 Train MSE: 0.0130364 \tSparsity loss: 0.631202 \tTotal loss: 0.139277\n",
      "64 Train MSE: 0.0178353 \tSparsity loss: 0.62674 \tTotal loss: 0.143183\n",
      "65 Train MSE: 0.0547991 \tSparsity loss: 0.322103 \tTotal loss: 0.11922\n",
      "66 Train MSE: 0.0169712 \tSparsity loss: 0.578627 \tTotal loss: 0.132697\n",
      "67 Train MSE: 0.0206879 \tSparsity loss: 0.298089 \tTotal loss: 0.0803056\n",
      "68 Train MSE: 0.0152923 \tSparsity loss: 0.815081 \tTotal loss: 0.178308\n",
      "69 Train MSE: 0.0141974 \tSparsity loss: 0.186988 \tTotal loss: 0.0515951\n",
      "70 Train MSE: 0.0211354 \tSparsity loss: 0.13182 \tTotal loss: 0.0474994\n",
      "71 Train MSE: 0.0138951 \tSparsity loss: 0.237241 \tTotal loss: 0.0613434\n",
      "72 Train MSE: 0.0158975 \tSparsity loss: 0.377846 \tTotal loss: 0.0914666\n",
      "73 Train MSE: 0.0244386 \tSparsity loss: 0.600455 \tTotal loss: 0.14453\n",
      "74 Train MSE: 0.0228295 \tSparsity loss: 0.30924 \tTotal loss: 0.0846775\n",
      "75 Train MSE: 0.0195239 \tSparsity loss: 0.273932 \tTotal loss: 0.0743103\n",
      "76 Train MSE: 0.0169188 \tSparsity loss: 0.203092 \tTotal loss: 0.0575372\n",
      "77 Train MSE: 0.0168561 \tSparsity loss: 0.431385 \tTotal loss: 0.103133\n",
      "78 Train MSE: 0.0155575 \tSparsity loss: 0.106727 \tTotal loss: 0.0369029\n",
      "79 Train MSE: 0.025088 \tSparsity loss: 0.0979764 \tTotal loss: 0.0446833\n",
      "80 Train MSE: 0.0172503 \tSparsity loss: 0.24346 \tTotal loss: 0.0659423\n",
      "81 Train MSE: 0.0279865 \tSparsity loss: 1.42938 \tTotal loss: 0.313863\n",
      "82 Train MSE: 0.0129029 \tSparsity loss: 0.122005 \tTotal loss: 0.037304\n",
      "83 Train MSE: 0.0146631 \tSparsity loss: 0.439565 \tTotal loss: 0.102576\n",
      "84 Train MSE: 0.0136438 \tSparsity loss: 0.123826 \tTotal loss: 0.0384091\n",
      "85 Train MSE: 0.0190767 \tSparsity loss: 0.829524 \tTotal loss: 0.184982\n",
      "86 Train MSE: 0.01517 \tSparsity loss: 0.213811 \tTotal loss: 0.0579322\n",
      "87 Train MSE: 0.0150024 \tSparsity loss: 0.131595 \tTotal loss: 0.0413213\n",
      "88 Train MSE: 0.0528794 \tSparsity loss: 0.687897 \tTotal loss: 0.190459\n",
      "89 Train MSE: 0.016463 \tSparsity loss: 0.120896 \tTotal loss: 0.0406421\n",
      "90 Train MSE: 0.015023 \tSparsity loss: 0.0890071 \tTotal loss: 0.0328244\n",
      "91 Train MSE: 0.0124949 \tSparsity loss: 0.621891 \tTotal loss: 0.136873\n",
      "92 Train MSE: 0.015845 \tSparsity loss: 0.176908 \tTotal loss: 0.0512266\n",
      "93 Train MSE: 0.0140232 \tSparsity loss: 0.485583 \tTotal loss: 0.11114\n",
      "94 Train MSE: 0.0200489 \tSparsity loss: 0.0912665 \tTotal loss: 0.0383022\n",
      "95 Train MSE: 0.0168087 \tSparsity loss: 0.536953 \tTotal loss: 0.124199\n",
      "96 Train MSE: 0.0170758 \tSparsity loss: 0.0743147 \tTotal loss: 0.0319388\n",
      "97 Train MSE: 0.0143492 \tSparsity loss: 0.661628 \tTotal loss: 0.146675\n",
      "98 Train MSE: 0.0156239 \tSparsity loss: 0.0870998 \tTotal loss: 0.0330439\n",
      "99 Train MSE: 0.0193909 \tSparsity loss: 0.229265 \tTotal loss: 0.0652439\n"
     ]
    }
   ],
   "source": [
    "n_epochs = 100\n",
    "batch_size = 1000\n",
    "\n",
    "with tf.Session() as sess:\n",
    "    init.run()\n",
    "    for epoch in range(n_epochs):\n",
    "        n_batches = mnist.train.num_examples // batch_size\n",
    "        for iteration in range(n_batches):\n",
    "            print(\"\\r{}%\".format(100 * iteration // n_batches), end=\"\")\n",
    "            sys.stdout.flush()\n",
    "            X_batch, y_batch = mnist.train.next_batch(batch_size)\n",
    "            sess.run(training_op, feed_dict = {X: X_batch})\n",
    "        reconstruction_loss_val, sparsity_loss_val, loss_val = sess.run(\n",
    "            [reconstruction_loss, sparsity_loss, loss], feed_dict = {X: X_batch})\n",
    "        hidden1_mean_val = sess.run(hidden1_mean, feed_dict = {X: X_batch})\n",
    "        print(\"\\r{}\".format(epoch), \"Train MSE:\", reconstruction_loss_val, \"\\tSparsity loss:\", sparsity_loss_val, \"\\tTotal loss:\", loss_val)\n",
    "        saver.save(sess, \"./my_model_sparse.ckpt\")"
   ]
  },
  {
   "cell_type": "code",
   "execution_count": 43,
   "metadata": {},
   "outputs": [
    {
     "name": "stdout",
     "output_type": "stream",
     "text": [
      "INFO:tensorflow:Restoring parameters from ./my_model_sparse.ckpt\n"
     ]
    },
    {
     "data": {
      "image/png": "[encoded data removed]",
      "text/plain": [
       "<matplotlib.figure.Figure at 0x128b25e10>"
      ]
     },
     "metadata": {},
     "output_type": "display_data"
    }
   ],
   "source": [
    "show_reconstructed_digits(X, outputs, \"./my_model_sparse.ckpt\")"
   ]
  },
  {
   "cell_type": "code",
   "execution_count": 45,
   "metadata": {},
   "outputs": [
    {
     "data": {
      "text/plain": [
       "(1000,)"
      ]
     },
     "execution_count": 45,
     "metadata": {},
     "output_type": "execute_result"
    }
   ],
   "source": [
    "hidden1_mean_val.shape"
   ]
  },
  {
   "cell_type": "code",
   "execution_count": 126,
   "metadata": {},
   "outputs": [],
   "source": [
    "reset_graph()\n",
    "\n",
    "from functools import partial\n",
    "\n",
    "n_inputs = 28 * 28\n",
    "n_hidden1 = 500\n",
    "n_hidden2 = 500\n",
    "n_hidden3 = 20 # codings\n",
    "n_hidden4 = n_hidden2\n",
    "n_hidden5 = n_hidden1\n",
    "n_outputs = n_inputs\n",
    "\n",
    "learning_rate = 0.001\n",
    "initializer = tf.contrib.layers.variance_scaling_initializer()\n",
    "\n",
    "my_dense_layer = partial(tf.layers.dense, activation = tf.nn.elu, kernel_initializer = initializer)\n",
    "\n",
    "X = tf.placeholder(tf.float32, [None, n_inputs])\n",
    "\n",
    "hidden1 = my_dense_layer(X, n_hidden1)\n",
    "hidden2 = my_dense_layer(hidden1, n_hidden2)\n",
    "\n",
    "hidden3_mean = my_dense_layer(hidden2, n_hidden3, activation = None)\n",
    "hidden3_sigma = my_dense_layer(hidden2, n_hidden3, activation = None)\n",
    "noise = tf.random_normal(tf.shape(hidden3_sigma), dtype = tf.float32)\n",
    "hidden3 = hidden3_mean + hidden3_sigma * noise\n",
    "\n",
    "hidden4 = my_dense_layer(hidden3, n_hidden4)\n",
    "hidden5 = my_dense_layer(hidden4, n_hidden5)\n",
    "logits = my_dense_layer(hidden5, n_outputs, activation = None)\n",
    "outputs = tf.sigmoid(logits) # for optimization\n",
    "\n",
    "xentropy = tf.nn.sigmoid_cross_entropy_with_logits(labels = X, logits = logits)\n",
    "reconstruction_loss = tf.reduce_sum(xentropy)"
   ]
  },
  {
   "cell_type": "code",
   "execution_count": 127,
   "metadata": {},
   "outputs": [],
   "source": [
    "eps = 1e-10\n",
    "latent_loss = 0.5 * tf.reduce_sum(\n",
    "    tf.square(hidden3_sigma) + tf.square(hidden3_mean) - 1\n",
    "    - tf.log(eps + tf.square(hidden3_sigma)))"
   ]
  },
  {
   "cell_type": "code",
   "execution_count": 128,
   "metadata": {},
   "outputs": [],
   "source": [
    "loss = reconstruction_loss + latent_loss\n",
    "\n",
    "optimizer = tf.train.AdamOptimizer(learning_rate = learning_rate)\n",
    "training_op = optimizer.minimize(loss)\n",
    "\n",
    "init = tf.global_variables_initializer()\n",
    "saver = tf.train.Saver()"
   ]
  },
  {
   "cell_type": "code",
   "execution_count": 129,
   "metadata": {},
   "outputs": [
    {
     "name": "stdout",
     "output_type": "stream",
     "text": [
      "0 Train total loss: 31296.0 \tReconstruction loss: 26011.4 \tLatent loss: 5284.6\n",
      "1 Train total loss: 26874.8 \tReconstruction loss: 22796.3 \tLatent loss: 4078.57\n",
      "2 Train total loss: 26162.7 \tReconstruction loss: 21371.9 \tLatent loss: 4790.81\n",
      "3 Train total loss: 23997.8 \tReconstruction loss: 19670.2 \tLatent loss: 4327.53\n",
      "4 Train total loss: 24599.3 \tReconstruction loss: 20255.0 \tLatent loss: 4344.29\n",
      "5 Train total loss: 24406.3 \tReconstruction loss: 21154.2 \tLatent loss: 3252.07\n",
      "6 Train total loss: 23872.3 \tReconstruction loss: 18524.5 \tLatent loss: 5347.84\n",
      "7 Train total loss: 22711.1 \tReconstruction loss: 19042.8 \tLatent loss: 3668.34\n",
      "8 Train total loss: 18990.5 \tReconstruction loss: 16042.8 \tLatent loss: 2947.74\n",
      "9 Train total loss: 19509.8 \tReconstruction loss: 16230.5 \tLatent loss: 3279.31\n",
      "10 Train total loss: 17026.7 \tReconstruction loss: 13927.3 \tLatent loss: 3099.38\n",
      "11 Train total loss: 16933.0 \tReconstruction loss: 13862.7 \tLatent loss: 3070.31\n",
      "12 Train total loss: 16447.3 \tReconstruction loss: 13185.8 \tLatent loss: 3261.51\n",
      "13 Train total loss: 16146.3 \tReconstruction loss: 13014.0 \tLatent loss: 3132.28\n",
      "14 Train total loss: 16197.1 \tReconstruction loss: 12935.4 \tLatent loss: 3261.66\n",
      "15 Train total loss: 16201.0 \tReconstruction loss: 12969.3 \tLatent loss: 3231.69\n",
      "16 Train total loss: 16639.7 \tReconstruction loss: 13276.3 \tLatent loss: 3363.4\n",
      "17 Train total loss: 16258.6 \tReconstruction loss: 12872.7 \tLatent loss: 3385.87\n",
      "18 Train total loss: 16305.5 \tReconstruction loss: 12965.8 \tLatent loss: 3339.73\n",
      "19 Train total loss: 16735.3 \tReconstruction loss: 13433.1 \tLatent loss: 3302.19\n",
      "20 Train total loss: 15275.3 \tReconstruction loss: 11910.7 \tLatent loss: 3364.59\n",
      "21 Train total loss: 15648.9 \tReconstruction loss: 12333.8 \tLatent loss: 3315.11\n",
      "22 Train total loss: 16098.6 \tReconstruction loss: 12523.9 \tLatent loss: 3574.67\n",
      "23 Train total loss: 22016.5 \tReconstruction loss: 17886.8 \tLatent loss: 4129.7\n",
      "24 Train total loss: 18198.5 \tReconstruction loss: 14732.7 \tLatent loss: 3465.83\n",
      "25 Train total loss: 15687.4 \tReconstruction loss: 12511.0 \tLatent loss: 3176.49\n",
      "26 Train total loss: 15451.4 \tReconstruction loss: 12178.8 \tLatent loss: 3272.63\n",
      "27 Train total loss: 15341.6 \tReconstruction loss: 11939.6 \tLatent loss: 3402.02\n",
      "28 Train total loss: 14673.1 \tReconstruction loss: 11454.6 \tLatent loss: 3218.52\n",
      "29 Train total loss: 16193.7 \tReconstruction loss: 12739.2 \tLatent loss: 3454.44\n",
      "30 Train total loss: 16367.8 \tReconstruction loss: 13040.4 \tLatent loss: 3327.38\n",
      "31 Train total loss: 17599.6 \tReconstruction loss: 14168.5 \tLatent loss: 3431.09\n",
      "32 Train total loss: 15736.3 \tReconstruction loss: 12410.4 \tLatent loss: 3325.95\n",
      "33 Train total loss: 15567.8 \tReconstruction loss: 12135.2 \tLatent loss: 3432.56\n",
      "34 Train total loss: 16212.1 \tReconstruction loss: 12684.5 \tLatent loss: 3527.55\n",
      "35 Train total loss: 15889.8 \tReconstruction loss: 12588.0 \tLatent loss: 3301.81\n",
      "36 Train total loss: 16994.6 \tReconstruction loss: 12847.3 \tLatent loss: 4147.33\n",
      "37 Train total loss: 34099.3 \tReconstruction loss: 25817.8 \tLatent loss: 8281.46\n",
      "38 Train total loss: 35680.9 \tReconstruction loss: 25033.9 \tLatent loss: 10647.0\n",
      "39 Train total loss: 30796.6 \tReconstruction loss: 22355.4 \tLatent loss: 8441.23\n",
      "40 Train total loss: 32606.5 \tReconstruction loss: 23012.4 \tLatent loss: 9594.12\n",
      "41 Train total loss: 23808.4 \tReconstruction loss: 19235.0 \tLatent loss: 4573.42\n",
      "42 Train total loss: 27172.6 \tReconstruction loss: 20822.9 \tLatent loss: 6349.67\n",
      "43 Train total loss: 24011.9 \tReconstruction loss: 18992.2 \tLatent loss: 5019.72\n",
      "44 Train total loss: 18907.9 \tReconstruction loss: 16001.4 \tLatent loss: 2906.51\n",
      "45 Train total loss: 17854.4 \tReconstruction loss: 14634.0 \tLatent loss: 3220.37\n",
      "46 Train total loss: 16578.7 \tReconstruction loss: 13296.2 \tLatent loss: 3282.5\n",
      "47 Train total loss: 15817.8 \tReconstruction loss: 12558.3 \tLatent loss: 3259.51\n",
      "48 Train total loss: 16019.2 \tReconstruction loss: 12679.7 \tLatent loss: 3339.46\n",
      "49 Train total loss: 15775.0 \tReconstruction loss: 12401.9 \tLatent loss: 3373.14\n"
     ]
    }
   ],
   "source": [
    "n_epochs = 50\n",
    "batch_size = 150\n",
    "\n",
    "with tf.Session() as sess:\n",
    "    init.run()\n",
    "    for epoch in range(n_epochs):\n",
    "        n_batches = mnist.train.num_examples // batch_size\n",
    "        for iteration in range(n_batches):\n",
    "            print(\"\\r{}%\".format(100 * iteration // n_batches), end=\"\")\n",
    "            sys.stdout.flush()\n",
    "            X_batch, y_batch = mnist.train.next_batch(batch_size)\n",
    "            sess.run(training_op, feed_dict = {X: X_batch})\n",
    "        loss_val, reconstruction_loss_val, latent_loss_val = sess.run([loss, reconstruction_loss, latent_loss], feed_dict = {X: X_batch})\n",
    "        hidden3_sigma_val = sess.run(hidden3_sigma, feed_dict = {X: X_batch})\n",
    "        print(\"\\r{}\".format(epoch), \"Train total loss:\", loss_val, \"\\tReconstruction loss:\", reconstruction_loss_val, \"\\tLatent loss:\", latent_loss_val)\n",
    "        saver.save(sess, \"./my_model_variational.ckpt\")"
   ]
  },
  {
   "cell_type": "code",
   "execution_count": 51,
   "metadata": {},
   "outputs": [
    {
     "data": {
      "text/plain": [
       "(150, 20)"
      ]
     },
     "execution_count": 51,
     "metadata": {},
     "output_type": "execute_result"
    }
   ],
   "source": [
    "hidden3_sigma_val.shape"
   ]
  },
  {
   "cell_type": "code",
   "execution_count": 57,
   "metadata": {},
   "outputs": [],
   "source": [
    "reset_graph()\n",
    "\n",
    "from functools import partial\n",
    "\n",
    "n_inputs = 28 * 28\n",
    "n_hidden1 = 500\n",
    "n_hidden2 = 500\n",
    "n_hidden3 = 20\n",
    "n_hidden4 = n_hidden2\n",
    "n_hidden5 = n_hidden1\n",
    "n_outputs = n_inputs\n",
    "\n",
    "learning_rate = 0.001\n",
    "initializer = tf.contrib.layers.variance_scaling_initializer()\n",
    "\n",
    "my_dense_layer = partial(tf.layers.dense, activation = tf.nn.elu, kernel_initializer = initializer)\n",
    "\n",
    "X = tf.placeholder(tf.float32, [None, n_inputs])\n",
    "\n",
    "hidden1 = my_dense_layer(X, n_hidden1)\n",
    "hidden2 = my_dense_layer(hidden1, n_hidden2)\n",
    "\n",
    "hidden3_mean = my_dense_layer(hidden2, n_hidden3, activation = None)\n",
    "hidden3_gamma = my_dense_layer(hidden2, n_hidden3, activation = None)\n",
    "noise = tf.random_normal(tf.shape(hidden3_gamma), dtype = tf.float32)\n",
    "hidden3 = hidden3_mean + tf.exp(0.5 * hidden3_gamma) * noise\n",
    "\n",
    "hidden4 = my_dense_layer(hidden3, n_hidden4)\n",
    "hidden5 = my_dense_layer(hidden4, n_hidden5)\n",
    "logits = my_dense_layer(hidden5, n_outputs, activation = None)\n",
    "outputs = tf.sigmoid(logits)\n",
    "\n",
    "xentropy = tf.nn.sigmoid_cross_entropy_with_logits(labels = X, logits = logits)\n",
    "reconstruction_loss = tf.reduce_sum(xentropy)\n",
    "latent_loss = 0.5 * tf.reduce_sum(\n",
    "    tf.exp(hidden3_gamma) + tf.square(hidden3_mean) - 1 - hidden3_gamma)\n",
    "loss = reconstruction_loss + latent_loss\n",
    "\n",
    "optimizer = tf.train.AdamOptimizer(learning_rate = learning_rate)\n",
    "training_op = optimizer.minimize(loss)\n",
    "\n",
    "init = tf.global_variables_initializer()\n",
    "saver = tf.train.Saver()"
   ]
  },
  {
   "cell_type": "code",
   "execution_count": 61,
   "metadata": {},
   "outputs": [
    {
     "name": "stdout",
     "output_type": "stream",
     "text": [
      "0 Train total loss: 18596.5 \tReconstruction loss: 14863.3 \tLatent loss: 3733.29\n",
      "1 Train total loss: 17430.4 \tReconstruction loss: 13646.2 \tLatent loss: 3784.26\n",
      "2 Train total loss: 17456.0 \tReconstruction loss: 13610.1 \tLatent loss: 3845.94\n",
      "3 Train total loss: 15598.7 \tReconstruction loss: 11983.9 \tLatent loss: 3614.78\n",
      "4 Train total loss: 16222.8 \tReconstruction loss: 12447.8 \tLatent loss: 3774.95\n",
      "5 Train total loss: 15976.4 \tReconstruction loss: 12239.2 \tLatent loss: 3737.29\n",
      "6 Train total loss: 15506.6 \tReconstruction loss: 11841.4 \tLatent loss: 3665.2\n",
      "7 Train total loss: 15270.7 \tReconstruction loss: 11466.0 \tLatent loss: 3804.76\n",
      "8 Train total loss: 15525.1 \tReconstruction loss: 11761.5 \tLatent loss: 3763.61\n",
      "9 Train total loss: 15791.3 \tReconstruction loss: 11931.0 \tLatent loss: 3860.27\n",
      "10 Train total loss: 14981.1 \tReconstruction loss: 11384.5 \tLatent loss: 3596.63\n",
      "11 Train total loss: 15661.2 \tReconstruction loss: 11909.1 \tLatent loss: 3752.1\n",
      "12 Train total loss: 15171.1 \tReconstruction loss: 11601.2 \tLatent loss: 3569.99\n",
      "13 Train total loss: 15049.1 \tReconstruction loss: 11398.7 \tLatent loss: 3650.43\n",
      "14 Train total loss: 16189.4 \tReconstruction loss: 12258.4 \tLatent loss: 3930.97\n",
      "15 Train total loss: 15258.4 \tReconstruction loss: 11464.8 \tLatent loss: 3793.63\n",
      "16 Train total loss: 15630.0 \tReconstruction loss: 11807.6 \tLatent loss: 3822.44\n",
      "17 Train total loss: 15022.3 \tReconstruction loss: 11338.9 \tLatent loss: 3683.41\n",
      "18 Train total loss: 14782.5 \tReconstruction loss: 11148.4 \tLatent loss: 3634.09\n",
      "19 Train total loss: 15552.5 \tReconstruction loss: 11766.5 \tLatent loss: 3785.97\n",
      "20 Train total loss: 15009.8 \tReconstruction loss: 11200.2 \tLatent loss: 3809.57\n",
      "21 Train total loss: 14967.2 \tReconstruction loss: 11261.9 \tLatent loss: 3705.25\n",
      "22 Train total loss: 15093.8 \tReconstruction loss: 11277.5 \tLatent loss: 3816.22\n",
      "23 Train total loss: 15745.1 \tReconstruction loss: 11904.8 \tLatent loss: 3840.32\n",
      "24 Train total loss: 14756.9 \tReconstruction loss: 11050.9 \tLatent loss: 3705.99\n",
      "25 Train total loss: 14553.4 \tReconstruction loss: 10899.0 \tLatent loss: 3654.32\n",
      "26 Train total loss: 15241.8 \tReconstruction loss: 11440.7 \tLatent loss: 3801.11\n",
      "27 Train total loss: 15136.0 \tReconstruction loss: 11334.0 \tLatent loss: 3802.02\n",
      "28 Train total loss: 15083.7 \tReconstruction loss: 11405.6 \tLatent loss: 3678.15\n",
      "29 Train total loss: 15383.9 \tReconstruction loss: 11548.2 \tLatent loss: 3835.71\n",
      "30 Train total loss: 14903.3 \tReconstruction loss: 11143.9 \tLatent loss: 3759.45\n",
      "31 Train total loss: 14876.7 \tReconstruction loss: 11201.7 \tLatent loss: 3675.06\n",
      "32 Train total loss: 15153.0 \tReconstruction loss: 11359.2 \tLatent loss: 3793.78\n",
      "33 Train total loss: 14701.6 \tReconstruction loss: 11009.5 \tLatent loss: 3692.14\n",
      "34 Train total loss: 14724.8 \tReconstruction loss: 11059.5 \tLatent loss: 3665.31\n",
      "35 Train total loss: 15220.6 \tReconstruction loss: 11412.9 \tLatent loss: 3807.74\n",
      "36 Train total loss: 14577.7 \tReconstruction loss: 10900.3 \tLatent loss: 3677.48\n",
      "37 Train total loss: 14795.7 \tReconstruction loss: 11098.2 \tLatent loss: 3697.44\n",
      "38 Train total loss: 14981.2 \tReconstruction loss: 11315.0 \tLatent loss: 3666.24\n",
      "39 Train total loss: 15186.7 \tReconstruction loss: 11400.6 \tLatent loss: 3786.1\n",
      "40 Train total loss: 14789.1 \tReconstruction loss: 10999.2 \tLatent loss: 3789.89\n",
      "41 Train total loss: 14166.9 \tReconstruction loss: 10587.0 \tLatent loss: 3579.91\n",
      "42 Train total loss: 15134.3 \tReconstruction loss: 11357.2 \tLatent loss: 3777.18\n",
      "43 Train total loss: 14963.5 \tReconstruction loss: 11198.4 \tLatent loss: 3765.06\n",
      "44 Train total loss: 14941.1 \tReconstruction loss: 11274.0 \tLatent loss: 3667.08\n",
      "45 Train total loss: 14264.1 \tReconstruction loss: 10703.0 \tLatent loss: 3561.11\n",
      "46 Train total loss: 14868.8 \tReconstruction loss: 11128.4 \tLatent loss: 3740.4\n",
      "47 Train total loss: 14592.2 \tReconstruction loss: 10992.5 \tLatent loss: 3599.68\n",
      "48 Train total loss: 14501.6 \tReconstruction loss: 10902.0 \tLatent loss: 3599.64\n",
      "49 Train total loss: 15019.1 \tReconstruction loss: 11322.3 \tLatent loss: 3696.75\n"
     ]
    }
   ],
   "source": [
    "import numpy as np\n",
    "\n",
    "n_digits = 60\n",
    "n_epochs = 50\n",
    "batch_size = 150\n",
    "\n",
    "with tf.Session() as sess:\n",
    "    init.run()\n",
    "    for epoch in range(n_epochs):\n",
    "        n_batches = mnist.train.num_examples // batch_size\n",
    "        for iteration in range(n_batches):\n",
    "            print(\"\\r{}%\".format(100 * iteration // n_batches), end=\"\") # not shown in the book\n",
    "            sys.stdout.flush()                                          # not shown\n",
    "            X_batch, y_batch = mnist.train.next_batch(batch_size)\n",
    "            sess.run(training_op, feed_dict={X: X_batch})\n",
    "        loss_val, reconstruction_loss_val, latent_loss_val = sess.run([loss, reconstruction_loss, latent_loss], feed_dict={X: X_batch}) # not shown\n",
    "        print(\"\\r{}\".format(epoch), \"Train total loss:\", loss_val, \"\\tReconstruction loss:\", reconstruction_loss_val, \"\\tLatent loss:\", latent_loss_val)  # not shown\n",
    "        saver.save(sess, \"./my_model_variational2.ckpt\")\n",
    "    \n",
    "    codings_rnd = np.random.normal(size = [n_digits, n_hidden3])\n",
    "    outputs_val = outputs.eval(feed_dict = {hidden3: codings_rnd})"
   ]
  },
  {
   "cell_type": "code",
   "execution_count": 62,
   "metadata": {},
   "outputs": [
    {
     "data": {
      "image/png": "[encoded data removed]",
      "text/plain": [
       "<matplotlib.figure.Figure at 0x122c134e0>"
      ]
     },
     "metadata": {},
     "output_type": "display_data"
    }
   ],
   "source": [
    "plt.figure(figsize=(8,50)) # not shown in the book\n",
    "for iteration in range(n_digits):\n",
    "    plt.subplot(n_digits, 10, iteration + 1)\n",
    "    plot_image(outputs_val[iteration])"
   ]
  },
  {
   "cell_type": "code",
   "execution_count": 63,
   "metadata": {},
   "outputs": [
    {
     "data": {
      "image/png": "[encoded data removed]",
      "text/plain": [
       "<matplotlib.figure.Figure at 0x120d2ada0>"
      ]
     },
     "metadata": {},
     "output_type": "display_data"
    }
   ],
   "source": [
    "n_rows = 6\n",
    "n_cols = 10\n",
    "plot_multiple_images(outputs_val.reshape(-1, 28, 28), n_rows, n_cols)\n",
    "# save_fig(\"generated_digits_plot\")\n",
    "plt.show()"
   ]
  },
  {
   "cell_type": "code",
   "execution_count": 132,
   "metadata": {},
   "outputs": [
    {
     "name": "stdout",
     "output_type": "stream",
     "text": [
      "INFO:tensorflow:Restoring parameters from ./my_model_variational.ckpt\n"
     ]
    }
   ],
   "source": [
    "n_digits = 7\n",
    "X_test, y_test = mnist.test.next_batch(batch_size)\n",
    "codings = hidden3\n",
    "\n",
    "with tf.Session() as sess:\n",
    "    saver.restore(sess, './my_model_variational.ckpt')\n",
    "    codings_val = codings.eval(feed_dict = {X: X_test})"
   ]
  },
  {
   "cell_type": "code",
   "execution_count": 133,
   "metadata": {},
   "outputs": [
    {
     "data": {
      "text/plain": [
       "(150, 20)"
      ]
     },
     "execution_count": 133,
     "metadata": {},
     "output_type": "execute_result"
    }
   ],
   "source": [
    "codings_val.shape"
   ]
  },
  {
   "cell_type": "code",
   "execution_count": 134,
   "metadata": {},
   "outputs": [
    {
     "data": {
      "text/plain": [
       "array([[-1.21921372, -1.80234313,  1.05403519, ...,  0.83680028,\n",
       "         0.35885412,  0.84495682],\n",
       "       [-1.2218951 ,  0.23168851,  1.35924375, ...,  1.60689759,\n",
       "        -0.71899468, -1.54138589],\n",
       "       [-1.27215648,  0.42854851,  0.24589576, ...,  1.99564958,\n",
       "         1.42728925,  1.90259123],\n",
       "       ..., \n",
       "       [-0.82459253,  0.89082283,  0.44813356, ..., -1.08359504,\n",
       "        -0.63555253, -0.53805846],\n",
       "       [ 1.50637126,  1.41568601,  0.68878728, ...,  0.03245194,\n",
       "         0.24069175,  0.00600278],\n",
       "       [-1.96681154,  1.3585217 , -0.85948378, ...,  1.21624899,\n",
       "        -1.76732421, -0.87419045]], dtype=float32)"
      ]
     },
     "execution_count": 134,
     "metadata": {},
     "output_type": "execute_result"
    }
   ],
   "source": [
    "codings_val"
   ]
  },
  {
   "cell_type": "code",
   "execution_count": 135,
   "metadata": {},
   "outputs": [
    {
     "name": "stdout",
     "output_type": "stream",
     "text": [
      "INFO:tensorflow:Restoring parameters from ./my_model_variational.ckpt\n"
     ]
    }
   ],
   "source": [
    "with tf.Session() as sess:\n",
    "    saver.restore(sess, './my_model_variational.ckpt')\n",
    "    outputs_val = outputs.eval(feed_dict = {codings: codings_val})"
   ]
  },
  {
   "cell_type": "code",
   "execution_count": 136,
   "metadata": {},
   "outputs": [
    {
     "data": {
      "text/plain": [
       "array([[  3.06828486e-11,   1.04803367e-10,   1.35074993e-10, ...,\n",
       "          6.23202379e-10,   9.52643853e-10,   1.24103592e-11],\n",
       "       [  1.47608814e-10,   2.83307333e-09,   4.10633216e-09, ...,\n",
       "          1.05081455e-09,   5.93719796e-10,   4.40476017e-10],\n",
       "       [  1.89420715e-10,   1.62717867e-10,   9.02209626e-11, ...,\n",
       "          4.03532541e-10,   9.48642165e-10,   1.08948395e-09],\n",
       "       ..., \n",
       "       [  2.04858727e-10,   1.66692382e-09,   4.40042935e-09, ...,\n",
       "          4.38418502e-09,   1.10249823e-10,   2.13597917e-10],\n",
       "       [  1.32365160e-10,   2.51792343e-09,   5.79865655e-10, ...,\n",
       "          1.66247227e-09,   2.44751608e-10,   8.99221231e-09],\n",
       "       [  9.21169185e-09,   1.31385514e-09,   4.25670166e-10, ...,\n",
       "          1.39368639e-09,   2.62165761e-10,   3.95011884e-10]], dtype=float32)"
      ]
     },
     "execution_count": 136,
     "metadata": {},
     "output_type": "execute_result"
    }
   ],
   "source": [
    "outputs_val"
   ]
  },
  {
   "cell_type": "code",
   "execution_count": 137,
   "metadata": {},
   "outputs": [
    {
     "data": {
      "text/plain": [
       "(150, 784)"
      ]
     },
     "execution_count": 137,
     "metadata": {},
     "output_type": "execute_result"
    }
   ],
   "source": [
    "outputs_val.shape"
   ]
  },
  {
   "cell_type": "code",
   "execution_count": 138,
   "metadata": {},
   "outputs": [
    {
     "data": {
      "image/png": "[encoded data removed]",
      "text/plain": [
       "<matplotlib.figure.Figure at 0x125768c18>"
      ]
     },
     "metadata": {},
     "output_type": "display_data"
    }
   ],
   "source": [
    "fig = plt.figure(figsize = (8, 2.5 * n_digits))\n",
    "for iteration in range(n_digits):\n",
    "    plt.subplot(n_digits, 2, 1 + 2 * iteration)\n",
    "    plot_image(X_test[iteration])\n",
    "    plt.subplot(n_digits, 2, 2 + 2 * iteration)\n",
    "    plot_image(outputs_val[iteration])"
   ]
  },
  {
   "cell_type": "code",
   "execution_count": 140,
   "metadata": {},
   "outputs": [
    {
     "name": "stdout",
     "output_type": "stream",
     "text": [
      "INFO:tensorflow:Restoring parameters from ./my_model_variational.ckpt\n"
     ]
    },
    {
     "data": {
      "image/png": "[encoded data removed]",
      "text/plain": [
       "<matplotlib.figure.Figure at 0x120b2ff98>"
      ]
     },
     "metadata": {},
     "output_type": "display_data"
    },
    {
     "data": {
      "image/png": "[encoded data removed]",
      "text/plain": [
       "<matplotlib.figure.Figure at 0x120c6a6a0>"
      ]
     },
     "metadata": {},
     "output_type": "display_data"
    },
    {
     "data": {
      "image/png": "[encoded data removed]",
      "text/plain": [
       "<matplotlib.figure.Figure at 0x120478278>"
      ]
     },
     "metadata": {},
     "output_type": "display_data"
    },
    {
     "data": {
      "image/png": "[encoded data removed]",
      "text/plain": [
       "<matplotlib.figure.Figure at 0x1237a5dd8>"
      ]
     },
     "metadata": {},
     "output_type": "display_data"
    }
   ],
   "source": [
    "n_iterations = 3\n",
    "n_digits = 6\n",
    "codings_rnd = np.random.normal(size = [n_digits, n_hidden3])\n",
    "\n",
    "with tf.Session() as sess:\n",
    "    saver.restore(sess, './my_model_variational.ckpt')\n",
    "    target_codings = np.roll(codings_rnd, -1, axis = 0)\n",
    "    for iteration in range(n_iterations + 1):\n",
    "        codings_interpolate = codings_rnd + (target_codings - codings_rnd) * iteration / n_iterations\n",
    "        outputs_val = outputs.eval(feed_dict = {codings: codings_interpolate})\n",
    "        plt.figure(figsize=(11, 1.5*n_iterations))\n",
    "        for digit_index in range(n_digits):\n",
    "            plt.subplot(1, n_digits, digit_index + 1)\n",
    "            plot_image(outputs_val[digit_index])\n",
    "        plt.show()"
   ]
  },
  {
   "cell_type": "code",
   "execution_count": null,
   "metadata": {},
   "outputs": [],
   "source": []
  }
 ],
 "metadata": {
  "kernelspec": {
   "display_name": "Python 3",
   "language": "python",
   "name": "python3"
  },
  "language_info": {
   "codemirror_mode": {
    "name": "ipython",
    "version": 3
   },
   "file_extension": ".py",
   "mimetype": "text/x-python",
   "name": "python",
   "nbconvert_exporter": "python",
   "pygments_lexer": "ipython3",
   "version": "3.5.4"
  }
 },
 "nbformat": 4,
 "nbformat_minor": 2
}
